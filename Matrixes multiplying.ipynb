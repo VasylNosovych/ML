{
 "cells": [
  {
   "cell_type": "code",
   "execution_count": 1,
   "metadata": {},
   "outputs": [],
   "source": [
    "import numpy as np\n",
    "import time"
   ]
  },
  {
   "cell_type": "code",
   "execution_count": 2,
   "metadata": {},
   "outputs": [],
   "source": [
    "n = 100\n",
    "A = np.random.randint(10, size=(n, n))\n",
    "B = np.random.randint(10, size=(n, n))"
   ]
  },
  {
   "cell_type": "code",
   "execution_count": 3,
   "metadata": {},
   "outputs": [
    {
     "name": "stdout",
     "output_type": "stream",
     "text": [
      "np algorithm: \n",
      "0.0019969940185546875\n"
     ]
    }
   ],
   "source": [
    "np_start = time.time()\n",
    "C = np.dot(A, B)\n",
    "np_end = time.time()\n",
    "\n",
    "print(\"np algorithm: \")\n",
    "print(np_end - np_start)"
   ]
  },
  {
   "cell_type": "code",
   "execution_count": null,
   "metadata": {},
   "outputs": [],
   "source": [
    "my_start = time.time()\n",
    "for i in range(n):\n",
    "    for j in range(n):\n",
    "        C[i][j] = 0\n",
    "        for k = 1; k < n; k = k + 4\n",
    "            C[i][j] += A[i][k] * \n",
    "        for k in range(n):\n",
    "            C[i][j] += A[i][k] * B[k][j]\n",
    "my_end = time.time()\n",
    "\n",
    "print(\"My algorithm: \")\n",
    "print(my_end - my_start)"
   ]
  },
  {
   "cell_type": "markdown",
   "metadata": {},
   "source": [
    "I have found an interesting solution of optimizing this algorithm: the main point is to separate the \"for\" loop into 4 steps inside it, so that increment has to be done by 4, not by 1. The number 4 is because some CPU's settings, or cores. I didn't notice any progress, so I decided not to do this here.\n",
    "\n",
    "Another one way is to save matrixes as one-dimentional arrays."
   ]
  }
 ],
 "metadata": {
  "kernelspec": {
   "display_name": "Python 3",
   "language": "python",
   "name": "python3"
  },
  "language_info": {
   "codemirror_mode": {
    "name": "ipython",
    "version": 3
   },
   "file_extension": ".py",
   "mimetype": "text/x-python",
   "name": "python",
   "nbconvert_exporter": "python",
   "pygments_lexer": "ipython3",
   "version": "3.8.0"
  }
 },
 "nbformat": 4,
 "nbformat_minor": 4
}
