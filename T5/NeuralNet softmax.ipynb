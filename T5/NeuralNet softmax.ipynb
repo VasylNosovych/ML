{
 "cells": [
  {
   "cell_type": "code",
   "execution_count": 1,
   "metadata": {},
   "outputs": [
    {
     "name": "stderr",
     "output_type": "stream",
     "text": [
      "Using TensorFlow backend.\n"
     ]
    }
   ],
   "source": [
    "import numpy as np\n",
    "import pandas as pd\n",
    "from sklearn.model_selection import train_test_split\n",
    "from mpl_toolkits.mplot3d import Axes3D\n",
    "import matplotlib.pyplot as plt\n",
    "\n",
    "from matplotlib.colors import ListedColormap\n",
    "cm_bright = ListedColormap(['#FF0000', '#0000FF'])\n",
    "%matplotlib inline\n",
    "from sklearn.metrics import accuracy_score\n",
    "\n",
    "from keras.utils import to_categorical"
   ]
  },
  {
   "cell_type": "code",
   "execution_count": 2,
   "metadata": {},
   "outputs": [],
   "source": [
    "class NeuralNet:\n",
    "    \n",
    "    \n",
    "    def __init__(self, normalize = True, learning_rate = 0.01, max_iter = 30000, hidden_layer_sizes=(100,), epsilon=1e-6):\n",
    "        self.learning_rate = learning_rate\n",
    "        self.max_iter = max_iter\n",
    "        self.normalize = normalize\n",
    "        self.hidden_layer_sizes = hidden_layer_sizes\n",
    "        self.n_layers = 1 + len(hidden_layer_sizes)\n",
    "        self.epsilon = epsilon\n",
    "        self.parameters = None\n",
    "    \n",
    "    def __normalize(self, X, mean = None, std = None):\n",
    "        n = X.shape[0]\n",
    "        m = mean\n",
    "        if m is None:\n",
    "            m = np.mean(X, axis=1).reshape((n, 1))\n",
    "        s = std\n",
    "        if s is None:\n",
    "            s = np.std(X, axis=1).reshape((n, 1))\n",
    "        X_new = (X - m) / s**2\n",
    "        return X_new, m, s\n",
    "\n",
    "    def __sigmoid(self, Z):\n",
    "        return 1 / (1 + np.exp(-Z))\n",
    "    \n",
    "    def softmax(self, Z):\n",
    "        expZ = np.exp(Z - np.max(Z))\n",
    "        return expZ / expZ.sum(axis=0, keepdims=True)\n",
    "    \n",
    "    def __initialize_parameters(self, n_x, hidden_layers, n_y):\n",
    "        np.random.seed(1)\n",
    "        W = list()\n",
    "        b = list()\n",
    "        \n",
    "        h = list(hidden_layers)\n",
    "        h.insert(0, n_x)\n",
    "        h.append(n_y)\n",
    "        hidden_layers = tuple(h)\n",
    "        \n",
    "        for i in range(1, self.n_layers+1):\n",
    "            W.append(np.random.randn(hidden_layers[i], hidden_layers[i-1]) * 0.01)\n",
    "            b.append(np.zeros((hidden_layers[i], 1)))\n",
    "\n",
    "        self.parameters = {\"W\" : W, \"b\" : b}\n",
    "    \n",
    "    def __forward_propagation(self, X):\n",
    "        W = self.parameters[\"W\"]\n",
    "        b = self.parameters[\"b\"]\n",
    "\n",
    "        A = list()\n",
    "        Z = list()\n",
    "               \n",
    "        for i in range(0, self.n_layers-1):\n",
    "            if i == 0:\n",
    "                Z.append(np.dot(W[i], X) + b[i])\n",
    "            else:\n",
    "                Z.append(np.dot(W[i], A[i-1]) + b[i])\n",
    "            A.append(self.__sigmoid(Z[i]))\n",
    "        \n",
    "        Z.append(np.dot(W[-1], A[-1]) + b[-1])\n",
    "        A.append(self.softmax(Z[-1]))\n",
    "        \n",
    "        cache = (W, b, Z, A)\n",
    "\n",
    "        return A[-1], cache\n",
    "    \n",
    "    def __sigmoid_derivative(self, Z):\n",
    "        s = 1 / (1 + np.exp(-Z))\n",
    "        return np.multiply(s, (1 - s))\n",
    "    \n",
    "    def cross_entropy(self, A, Y):\n",
    "        return - np.sum(np.log(A) * (Y), axis=1)\n",
    "    \n",
    "    def compute_cost(self, A, Y):\n",
    "        J = -np.mean(Y.T * np.log(A.T+ 1e-8))\n",
    "        return J\n",
    "        \n",
    "    def __backward_propagation(self, X, Y, cache):\n",
    "        m = X.shape[1]\n",
    "        n = X.shape[0]\n",
    "        (W, b, Z, A) = cache\n",
    "        \n",
    "        dW = [None] * (self.n_layers)\n",
    "        dA = [None] * (self.n_layers)\n",
    "        dZ = [None] * (self.n_layers)\n",
    "        db = [None] * (self.n_layers)\n",
    "        \n",
    "        dZ[-1] = (A[-1] - Y)\n",
    "        dW[-1] = (1. / m * np.dot(dZ[-1], A[-2].T))\n",
    "        db[-1] = (1. / m * np.sum(dZ[-1], axis = 1, keepdims = True))\n",
    "        dA[-1] = np.dot(W[-1].T, dZ[-1])\n",
    "        \n",
    "        for i in range(self.n_layers-1, 0, -1):\n",
    "            dZ[i-1] = np.multiply(dA[i], self.__sigmoid_derivative(Z[i-1]))\n",
    "            if i-1 == 0:\n",
    "                dW[i-1] = 1. / m * np.dot(dZ[i-1], X.T)\n",
    "            else:\n",
    "                dW[i-1] = 1. / m * np.dot(dZ[i-1], A[i-2].T)\n",
    "            db[i-1] = 1. / m * np.sum(dZ[i-1], axis = 1, keepdims = True) \n",
    "            dA[i-1] = np.dot(W[i-1].T, dZ[i-1])\n",
    "        \n",
    "        grads = {\"dZ\" : dZ, \"dW\" : dW, \"db\" : db}\n",
    "        return grads\n",
    "    \n",
    "    def __update_parameters(self, grads):\n",
    "        W = self.parameters[\"W\"]\n",
    "        b = self.parameters[\"b\"]\n",
    "\n",
    "        dW = grads[\"dW\"]\n",
    "        db = grads[\"db\"]\n",
    "        \n",
    "        for i in range(self.n_layers):\n",
    "            W[i] = W[i] - self.learning_rate * dW[i]\n",
    "            b[i] = b[i] - self.learning_rate * db[i]\n",
    "\n",
    "    def fit(self, X_vert, Y_vert, print_cost = True):\n",
    "        self.n_iter = 0\n",
    "        X, Y = X_vert.T, Y_vert.T\n",
    "        \n",
    "        if self.normalize:\n",
    "            X, self.__mean, self.__std = self.__normalize(X)\n",
    "        \n",
    "        costs = []\n",
    "        cost_history = []\n",
    "        \n",
    "        m = X.shape[1]\n",
    "        n_x = X.shape[0]\n",
    "        n_y = Y.shape[0]\n",
    "        \n",
    "        self.__initialize_parameters(n_x, self.hidden_layer_sizes, n_y)\n",
    "\n",
    "        for i in range(self.max_iter):\n",
    "            self.n_iter = i\n",
    "            A, cache = self.__forward_propagation(X)\n",
    "\n",
    "            cost = self.compute_cost(A, Y)\n",
    "            cost_history.append(cost)\n",
    "            \n",
    "            grads = self.__backward_propagation(X, Y, cache)\n",
    "            self.__update_parameters(grads)\n",
    "            \n",
    "            \n",
    "            if print_cost and i % 1000 == 0:\n",
    "                print(\"{}-th iteration: {}\".format(i, cost))\n",
    "\n",
    "            if i % 1000 == 0:\n",
    "                costs.append(cost)\n",
    "  \n",
    "            if i > 1 and abs(cost-cost_history[-2]) < self.epsilon:\n",
    "                break\n",
    "\n",
    "        if print_cost:\n",
    "            plt.plot(costs)\n",
    "            plt.ylabel(\"Cost\")\n",
    "            plt.xlabel(\"Iteration, *100\")\n",
    "            plt.show()\n",
    "    \n",
    "    def predict_proba(self, X_vert):\n",
    "        X = X_vert.T\n",
    "        if self.normalize:\n",
    "            X, _, _ = self.__normalize(X, self.__mean, self.__std)\n",
    "        \n",
    "        probs = self.__forward_propagation(X)[0]\n",
    "        \n",
    "        return probs.T\n",
    "    \n",
    "    def predict(self, X_vert):\n",
    "        positive_probs = self.predict_proba(X_vert)\n",
    "        y_pred = self.to_classlabel(positive_probs)\n",
    "        return y_pred  \n",
    "\n",
    "    def to_classlabel(self, z):\n",
    "        return z.argmax(axis=1)"
   ]
  },
  {
   "cell_type": "code",
   "execution_count": 3,
   "metadata": {},
   "outputs": [],
   "source": [
    "from sklearn import datasets\n",
    "iris = datasets.load_iris()\n",
    "\n",
    "X = iris.data\n",
    "Y = iris.target.reshape((X.shape[0], 1))"
   ]
  },
  {
   "cell_type": "code",
   "execution_count": 4,
   "metadata": {},
   "outputs": [
    {
     "name": "stdout",
     "output_type": "stream",
     "text": [
      "<class 'numpy.ndarray'>\n",
      "Training set: X=(120, 4), y=(120, 1)\n",
      "Test set: X=(30, 4), y=(30, 1)\n"
     ]
    }
   ],
   "source": [
    "X_train, X_test, y_train, y_test = train_test_split(X, Y, test_size = 0.2, shuffle = True)\n",
    "\n",
    "print(type(y_train))\n",
    "print('Training set: X={}, y={}'.format(X_train.shape, y_train.shape))\n",
    "print('Test set: X={}, y={}'.format(X_test.shape, y_test.shape))"
   ]
  },
  {
   "cell_type": "code",
   "execution_count": 5,
   "metadata": {},
   "outputs": [
    {
     "data": {
      "text/plain": [
       "(120, 3)"
      ]
     },
     "execution_count": 5,
     "metadata": {},
     "output_type": "execute_result"
    }
   ],
   "source": [
    "y_train = to_categorical(y_train)\n",
    "y_train.shape"
   ]
  },
  {
   "cell_type": "code",
   "execution_count": 6,
   "metadata": {},
   "outputs": [
    {
     "name": "stdout",
     "output_type": "stream",
     "text": [
      "0-th iteration: 0.36594461343406565\n",
      "1000-th iteration: 0.04133781548403443\n",
      "2000-th iteration: 0.02763669487658609\n",
      "3000-th iteration: 0.023992516192302905\n",
      "4000-th iteration: 0.022276030855111133\n"
     ]
    },
    {
     "data": {
      "image/png": "[encoded data removed]",
      "text/plain": [
       "<Figure size 432x288 with 1 Axes>"
      ]
     },
     "metadata": {
      "needs_background": "light"
     },
     "output_type": "display_data"
    }
   ],
   "source": [
    "cls = NeuralNet(normalize = False, learning_rate = 0.1, max_iter = 30000, hidden_layer_sizes=(50,), epsilon=1e-6)\n",
    "cls.fit(X_train, y_train, print_cost=True)"
   ]
  },
  {
   "cell_type": "code",
   "execution_count": 7,
   "metadata": {},
   "outputs": [
    {
     "name": "stdout",
     "output_type": "stream",
     "text": [
      "{'W': [array([[-0.16401071, -0.32364876,  0.53224903,  0.41920188],\n",
      "       [ 0.13735792,  0.07435653, -0.29566204, -0.42699008],\n",
      "       [ 0.09693972,  0.09551592, -0.27641005, -0.37953287],\n",
      "       [ 0.49578903,  0.45432519, -0.77578561, -1.00661363],\n",
      "       [-0.16023596, -0.327089  ,  0.53580232,  0.41167721],\n",
      "       [-0.38988325, -0.49177151,  0.79819164,  0.76964486],\n",
      "       [-0.17643625, -0.39476049,  0.61594049,  0.43178297],\n",
      "       [ 0.34824668,  0.34553627, -0.61999465, -0.74590003],\n",
      "       [ 0.02940097, -0.07808117,  0.21881522,  0.13726044],\n",
      "       [ 0.32210286,  0.36606368, -0.61787464, -0.70791445],\n",
      "       [-0.13121133, -0.25962224,  0.44867383,  0.38253727],\n",
      "       [-0.30283745, -0.44885339,  0.70750773,  0.65781707],\n",
      "       [ 0.06671691,  0.06823744, -0.24622214, -0.32310664],\n",
      "       [ 0.26435853,  0.27621352, -0.52254692, -0.60532724],\n",
      "       [-0.43650812, -0.55306747,  0.85289053,  0.86823027],\n",
      "       [ 0.17818031,  0.20252259, -0.40524028, -0.49045442],\n",
      "       [-0.24536211, -0.39660119,  0.64364108,  0.55155055],\n",
      "       [ 0.29640101,  0.24680333, -0.53115527, -0.6358495 ],\n",
      "       [ 0.59965981,  0.5659974 , -0.91004443, -1.1915977 ],\n",
      "       [ 0.29613066,  0.33136461, -0.58155051, -0.65607032],\n",
      "       [ 0.41549543,  0.4128614 , -0.71044421, -0.85050858],\n",
      "       [ 0.45897159,  0.43049255, -0.74907901, -0.9196435 ],\n",
      "       [ 0.12281228,  0.13932426, -0.32772056, -0.40429902],\n",
      "       [ 0.23664597,  0.21784838, -0.46006767, -0.56878098],\n",
      "       [-0.08695137, -0.18202535,  0.36444142,  0.30511129],\n",
      "       [ 0.40501154,  0.46576364, -0.74011794, -0.83788732],\n",
      "       [ 0.25691936,  0.28338136, -0.51364782, -0.61265029],\n",
      "       [ 0.21291246,  0.21044227, -0.44541642, -0.519149  ],\n",
      "       [ 0.04377494, -0.05847725,  0.12569469,  0.02447174],\n",
      "       [-0.30713687, -0.51617784,  0.78241059,  0.65225722],\n",
      "       [-0.28582042, -0.43314617,  0.69129785,  0.62224693],\n",
      "       [-0.22170297, -0.31250939,  0.57407739,  0.48130021],\n",
      "       [ 0.56961163,  0.5562472 , -0.88877384, -1.13257867],\n",
      "       [ 0.46959136,  0.47446072, -0.77337451, -0.96443434],\n",
      "       [-0.27787212, -0.45947841,  0.71657512,  0.60282933],\n",
      "       [-0.22475118, -0.39408649,  0.63871025,  0.50898221],\n",
      "       [ 0.16723067,  0.14442867, -0.36645151, -0.45788547],\n",
      "       [ 0.60001128,  0.54228503, -0.89472311, -1.19113534],\n",
      "       [ 0.18516062,  0.20376327, -0.41332797, -0.49405206],\n",
      "       [ 0.64807287,  0.58622995, -0.95852236, -1.26448729],\n",
      "       [ 0.12539479,  0.09821259, -0.30454001, -0.4060243 ],\n",
      "       [-0.2955407 , -0.45800574,  0.72587926,  0.62638761],\n",
      "       [-0.02785952, -0.09469415, -0.09899547, -0.16019826],\n",
      "       [-0.23976324, -0.43156911,  0.66960903,  0.54857592],\n",
      "       [-0.19632567, -0.37481384,  0.60315442,  0.46523868],\n",
      "       [ 0.1789686 ,  0.21286649, -0.42178298, -0.47435679],\n",
      "       [ 0.14833088,  0.1318364 , -0.34389834, -0.43411931],\n",
      "       [-0.21917808, -0.39378895,  0.6371046 ,  0.49767974],\n",
      "       [ 0.38358748,  0.40593562, -0.68184962, -0.80830025],\n",
      "       [-0.21395986, -0.38804574,  0.62630281,  0.49508369]]), array([[-0.6823381 ,  0.35136857,  0.32468277,  0.97272769, -0.69418665,\n",
      "        -1.12852995, -0.80144987,  0.77421986, -0.24367133,  0.79668758,\n",
      "        -0.573175  , -0.99482384,  0.29867947,  0.64699572, -1.23120028,\n",
      "         0.51420167, -0.86085615,  0.64217791,  1.1364242 ,  0.73056529,\n",
      "         0.90530306,  0.934107  ,  0.40752106,  0.56726484, -0.458813  ,\n",
      "         0.97813108,  0.64383283,  0.55069163, -0.14343983, -1.10740758,\n",
      "        -0.95156157, -0.73064376,  1.11493172,  0.99432101, -0.9840089 ,\n",
      "        -0.85415603,  0.42854107,  1.08503335,  0.48913312,  1.16198733,\n",
      "         0.36358322, -1.00091148,  0.04437834, -0.91696905, -0.79433074,\n",
      "         0.52336292,  0.4190275 , -0.84280389,  0.88248675, -0.83766406],\n",
      "       [ 0.04952583,  0.27611491,  0.22142634,  0.48347917,  0.06152156,\n",
      "        -0.07984817,  0.11953693,  0.31211195,  0.01518658,  0.27142785,\n",
      "         0.02369006, -0.01896459,  0.2415846 ,  0.24987326, -0.11905008,\n",
      "         0.24375499,  0.0367699 ,  0.28770255,  0.58444999,  0.2494963 ,\n",
      "         0.3669893 ,  0.41868993,  0.23627919,  0.27141238, -0.00409559,\n",
      "         0.31934144,  0.24210453,  0.25113933,  0.05766919,  0.0675465 ,\n",
      "         0.00549364,  0.01406827,  0.53681901,  0.43221154,  0.0455478 ,\n",
      "         0.06023932,  0.24514189,  0.58907798,  0.21828627,  0.64304154,\n",
      "         0.25138888,  0.02529337,  0.23933538,  0.05129524,  0.06651617,\n",
      "         0.21726588,  0.25034037,  0.07265166,  0.31885452,  0.0661939 ],\n",
      "       [ 0.64601144, -0.63626338, -0.58796474, -1.42608856,  0.62021791,\n",
      "         1.19655384,  0.68605099, -1.09632769,  0.2278069 , -1.06062267,\n",
      "         0.55851629,  0.98815754, -0.50728219, -0.91309205,  1.36953088,\n",
      "        -0.72893188,  0.83971315, -0.93211723, -1.71128977, -0.99478098,\n",
      "        -1.24912259, -1.34030863, -0.61779738, -0.83699508,  0.44814916,\n",
      "        -1.27209548, -0.91286226, -0.77956995,  0.07384544,  1.06337845,\n",
      "         0.94505717,  0.72544199, -1.65415647, -1.40046441,  0.95237825,\n",
      "         0.77751638, -0.70571287, -1.69842289, -0.76039046, -1.81711094,\n",
      "        -0.62593642,  0.9847253 , -0.28323156,  0.84813609,  0.71725641,\n",
      "        -0.73676981, -0.66069145,  0.77182641, -1.18817852,  0.75251217]])], 'b': [array([[-1.31672585e-01],\n",
      "       [ 1.32952498e-01],\n",
      "       [ 1.10231463e-01],\n",
      "       [ 3.55991032e-01],\n",
      "       [-1.21291807e-01],\n",
      "       [-2.52556401e-01],\n",
      "       [-1.31602051e-01],\n",
      "       [ 2.56445864e-01],\n",
      "       [-2.32892867e-02],\n",
      "       [ 2.43606296e-01],\n",
      "       [-1.08637846e-01],\n",
      "       [-2.05387175e-01],\n",
      "       [ 9.44648662e-02],\n",
      "       [ 2.07156053e-01],\n",
      "       [-2.90996135e-01],\n",
      "       [ 1.59140283e-01],\n",
      "       [-1.70210996e-01],\n",
      "       [ 2.13354316e-01],\n",
      "       [ 4.25768524e-01],\n",
      "       [ 2.23928672e-01],\n",
      "       [ 2.98599869e-01],\n",
      "       [ 3.26129312e-01],\n",
      "       [ 1.26294659e-01],\n",
      "       [ 1.91067749e-01],\n",
      "       [-8.46442231e-02],\n",
      "       [ 2.91449362e-01],\n",
      "       [ 2.03931638e-01],\n",
      "       [ 1.73689353e-01],\n",
      "       [ 2.70927220e-04],\n",
      "       [-2.03372999e-01],\n",
      "       [-1.93297746e-01],\n",
      "       [-1.48661845e-01],\n",
      "       [ 4.08209697e-01],\n",
      "       [ 3.40476811e-01],\n",
      "       [-1.90073265e-01],\n",
      "       [-1.55035448e-01],\n",
      "       [ 1.49289017e-01],\n",
      "       [ 4.25659031e-01],\n",
      "       [ 1.58136244e-01],\n",
      "       [ 4.59841610e-01],\n",
      "       [ 1.28631931e-01],\n",
      "       [-1.99492105e-01],\n",
      "       [ 3.52342009e-02],\n",
      "       [-1.74523043e-01],\n",
      "       [-1.44916176e-01],\n",
      "       [ 1.59055852e-01],\n",
      "       [ 1.39980526e-01],\n",
      "       [-1.52857464e-01],\n",
      "       [ 2.71181307e-01],\n",
      "       [-1.50584977e-01]]), array([[ 0.07435142],\n",
      "       [ 0.1878619 ],\n",
      "       [-0.26221332]])]}\n"
     ]
    }
   ],
   "source": [
    "print(cls.parameters)"
   ]
  },
  {
   "cell_type": "code",
   "execution_count": 8,
   "metadata": {},
   "outputs": [
    {
     "data": {
      "text/plain": [
       "array([[1.70122343e-07, 3.20378249e-02, 9.67962005e-01],\n",
       "       [1.06781363e-11, 4.77273974e-05, 9.99952273e-01],\n",
       "       [9.94501896e-01, 5.49810379e-03, 7.22056358e-16],\n",
       "       [9.94730056e-01, 5.26994430e-03, 6.69640510e-16],\n",
       "       [9.98300518e-01, 1.69948230e-03, 3.29772179e-17],\n",
       "       [2.43930946e-04, 9.91241443e-01, 8.51462640e-03],\n",
       "       [9.95338631e-01, 4.66136943e-03, 5.26525551e-16],\n",
       "       [7.09412848e-04, 9.98271542e-01, 1.01904498e-03],\n",
       "       [9.97894257e-01, 2.10574276e-03, 6.04836891e-17],\n",
       "       [9.98019135e-01, 1.98086493e-03, 4.83843697e-17],\n",
       "       [9.96412694e-01, 3.58730624e-03, 2.54348859e-16],\n",
       "       [7.41630609e-10, 7.76951685e-04, 9.99223048e-01],\n",
       "       [9.96681107e-01, 3.31889342e-03, 1.76982864e-16],\n",
       "       [1.78435051e-07, 3.39900852e-02, 9.66009736e-01],\n",
       "       [9.97756137e-01, 2.24386310e-03, 7.65496725e-17],\n",
       "       [1.70562563e-03, 9.98138253e-01, 1.56121286e-04],\n",
       "       [6.62192006e-09, 3.32625500e-03, 9.96673738e-01],\n",
       "       [9.97220163e-01, 2.77983681e-03, 1.12877653e-16],\n",
       "       [2.25998032e-04, 9.92084940e-01, 7.68906189e-03],\n",
       "       [9.97578607e-01, 2.42139330e-03, 9.50818500e-17],\n",
       "       [9.96679007e-01, 3.32099316e-03, 1.77291962e-16],\n",
       "       [9.98280822e-01, 1.71917756e-03, 3.47650637e-17],\n",
       "       [9.92424981e-01, 7.57501853e-03, 1.95677035e-15],\n",
       "       [3.91462331e-03, 9.96056863e-01, 2.85136220e-05],\n",
       "       [5.87155329e-09, 3.15399852e-03, 9.96845996e-01],\n",
       "       [2.75191257e-03, 9.97185966e-01, 6.21211471e-05],\n",
       "       [9.99054623e-01, 9.45376815e-04, 7.14124907e-18],\n",
       "       [9.98151135e-01, 1.84886465e-03, 4.29395724e-17],\n",
       "       [9.97421214e-01, 2.57878621e-03, 9.86890082e-17],\n",
       "       [2.77101341e-03, 9.97165710e-01, 6.32762545e-05]])"
      ]
     },
     "execution_count": 8,
     "metadata": {},
     "output_type": "execute_result"
    }
   ],
   "source": [
    "Y_prob = cls.predict_proba(X_test)\n",
    "Y_prob"
   ]
  },
  {
   "cell_type": "code",
   "execution_count": 9,
   "metadata": {},
   "outputs": [],
   "source": [
    "Y_hat = cls.predict(X_test)"
   ]
  },
  {
   "cell_type": "code",
   "execution_count": 10,
   "metadata": {},
   "outputs": [
    {
     "data": {
      "text/plain": [
       "1.0"
      ]
     },
     "execution_count": 10,
     "metadata": {},
     "output_type": "execute_result"
    }
   ],
   "source": [
    "accuracy_score(y_test, Y_hat)"
   ]
  },
  {
   "cell_type": "code",
   "execution_count": 11,
   "metadata": {},
   "outputs": [],
   "source": [
    "from sklearn.neural_network import MLPClassifier\n",
    "clf = MLPClassifier(hidden_layer_sizes = (20,10), max_iter = 11000, activation = 'relu', solver = 'sgd', learning_rate_init = 0.001, learning_rate = 'constant')"
   ]
  },
  {
   "cell_type": "code",
   "execution_count": 12,
   "metadata": {},
   "outputs": [
    {
     "data": {
      "text/plain": [
       "MLPClassifier(activation='relu', alpha=0.0001, batch_size='auto', beta_1=0.9,\n",
       "              beta_2=0.999, early_stopping=False, epsilon=1e-08,\n",
       "              hidden_layer_sizes=(20, 10), learning_rate='constant',\n",
       "              learning_rate_init=0.001, max_fun=15000, max_iter=11000,\n",
       "              momentum=0.9, n_iter_no_change=10, nesterovs_momentum=True,\n",
       "              power_t=0.5, random_state=None, shuffle=True, solver='sgd',\n",
       "              tol=0.0001, validation_fraction=0.1, verbose=False,\n",
       "              warm_start=False)"
      ]
     },
     "execution_count": 12,
     "metadata": {},
     "output_type": "execute_result"
    }
   ],
   "source": [
    "clf.fit(X_train, y_train)"
   ]
  },
  {
   "cell_type": "code",
   "execution_count": 13,
   "metadata": {},
   "outputs": [
    {
     "data": {
      "text/plain": [
       "1.0"
      ]
     },
     "execution_count": 13,
     "metadata": {},
     "output_type": "execute_result"
    }
   ],
   "source": [
    "Y_pred = clf.predict(X_test)\n",
    "\n",
    "accuracy_score(to_categorical(y_test), Y_pred)"
   ]
  }
 ],
 "metadata": {
  "kernelspec": {
   "display_name": "Python 3",
   "language": "python",
   "name": "python3"
  },
  "language_info": {
   "codemirror_mode": {
    "name": "ipython",
    "version": 3
   },
   "file_extension": ".py",
   "mimetype": "text/x-python",
   "name": "python",
   "nbconvert_exporter": "python",
   "pygments_lexer": "ipython3",
   "version": "3.8.0"
  }
 },
 "nbformat": 4,
 "nbformat_minor": 4
}
