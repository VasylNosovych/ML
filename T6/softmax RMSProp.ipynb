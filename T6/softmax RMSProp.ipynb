{
 "cells": [
  {
   "cell_type": "code",
   "execution_count": 1,
   "metadata": {},
   "outputs": [
    {
     "name": "stderr",
     "output_type": "stream",
     "text": [
      "Using TensorFlow backend.\n"
     ]
    }
   ],
   "source": [
    "import numpy as np\n",
    "import pandas as pd\n",
    "from sklearn.model_selection import train_test_split\n",
    "from mpl_toolkits.mplot3d import Axes3D\n",
    "import matplotlib.pyplot as plt\n",
    "\n",
    "from matplotlib.colors import ListedColormap\n",
    "cm_bright = ListedColormap(['#FF0000', '#0000FF'])\n",
    "%matplotlib inline\n",
    "from sklearn.metrics import accuracy_score\n",
    "\n",
    "from keras.utils import to_categorical"
   ]
  },
  {
   "cell_type": "code",
   "execution_count": 2,
   "metadata": {},
   "outputs": [],
   "source": [
    "class NeuralNet:\n",
    "    \n",
    "    \n",
    "    def __init__(self, normalize = True, learning_rate = 0.01, max_iter = 30000, hidden_layer_sizes=(100,), beta=0.9, epsilon=1e-6):\n",
    "        self.learning_rate = learning_rate\n",
    "        self.max_iter = max_iter\n",
    "        self.normalize = normalize\n",
    "        self.hidden_layer_sizes = hidden_layer_sizes\n",
    "        self.n_layers = 1 + len(hidden_layer_sizes)\n",
    "        self.beta = beta\n",
    "        self.epsilon = epsilon\n",
    "    \n",
    "    def __normalize(self, X, mean = None, std = None):\n",
    "        n = X.shape[0]\n",
    "        m = mean\n",
    "        if m is None:\n",
    "            m = np.mean(X, axis=1).reshape((n, 1))\n",
    "        s = std\n",
    "        if s is None:\n",
    "            s = np.std(X, axis=1).reshape((n, 1))\n",
    "        X_new = (X - m) / s**2\n",
    "        return X_new, m, s\n",
    "\n",
    "    def __sigmoid(self, Z):\n",
    "        return 1 / (1 + np.exp(-Z))\n",
    "    \n",
    "    def softmax(self, Z):\n",
    "        expZ = np.exp(Z - np.max(Z))\n",
    "        return expZ / expZ.sum(axis=0, keepdims=True)\n",
    "    \n",
    "    def __initialize_parameters(self, n_x, hidden_layers, n_y):\n",
    "        np.random.seed(1)\n",
    "        W = list()\n",
    "        b = list()\n",
    "        \n",
    "        h = list(hidden_layers)\n",
    "        h.insert(0, n_x)\n",
    "        h.append(n_y)\n",
    "        hidden_layers = tuple(h)\n",
    "        \n",
    "        self.__compute_S(hidden_layers)\n",
    "        \n",
    "        for i in range(1, self.n_layers+1):\n",
    "            W.append(np.random.randn(hidden_layers[i], hidden_layers[i-1]) * 0.01)\n",
    "            b.append(np.zeros((hidden_layers[i], 1)))\n",
    "\n",
    "        self.parameters = {\"W\" : W, \"b\" : b}\n",
    "    \n",
    "    def __forward_propagation(self, X):\n",
    "        W = self.parameters[\"W\"]\n",
    "        b = self.parameters[\"b\"]\n",
    "\n",
    "        A = list()\n",
    "        Z = list()\n",
    "               \n",
    "        for i in range(0, self.n_layers-1):\n",
    "            if i == 0:\n",
    "                Z.append(np.dot(W[i], X) + b[i])\n",
    "            else:\n",
    "                Z.append(np.dot(W[i], A[i-1]) + b[i])\n",
    "            A.append(self.__sigmoid(Z[i]))\n",
    "        \n",
    "        Z.append(np.dot(W[-1], A[-1]) + b[-1])\n",
    "        A.append(self.softmax(Z[-1]))\n",
    "        \n",
    "        cache = (W, b, Z, A)\n",
    "\n",
    "        return A[-1], cache\n",
    "    \n",
    "    def __sigmoid_derivative(self, Z):\n",
    "        s = 1 / (1 + np.exp(-Z))\n",
    "        return np.multiply(s, (1 - s))\n",
    "    \n",
    "    def cross_entropy(self, A, Y):\n",
    "        return - np.sum(np.log(A) * (Y), axis=1)\n",
    "    \n",
    "    def compute_cost(self, A, Y):\n",
    "        J = -np.mean(Y.T * np.log(A.T+ 1e-8))\n",
    "        return J\n",
    "    \n",
    "    \n",
    "    def __compute_S(self, hidden_layers):\n",
    "        self.S_dW = list()\n",
    "        self.S_db = list()\n",
    "        for i in range(1, self.n_layers+1):\n",
    "            self.S_dW.append(np.zeros((hidden_layers[i], hidden_layers[i-1])))\n",
    "            self.S_db.append(np.zeros((hidden_layers[i], 1)))\n",
    "        \n",
    "        \n",
    "    def __backward_propagation(self, X, Y, cache):\n",
    "        m = X.shape[1]\n",
    "        n = X.shape[0]\n",
    "        (W, b, Z, A) = cache\n",
    "        \n",
    "        dW = [None] * (self.n_layers)\n",
    "        dA = [None] * (self.n_layers)\n",
    "        dZ = [None] * (self.n_layers)\n",
    "        db = [None] * (self.n_layers)\n",
    "        \n",
    "        dZ[-1] = (A[-1] - Y)\n",
    "        dW[-1] = (1. / m * np.dot(dZ[-1], A[-2].T))\n",
    "        db[-1] = (1. / m * np.sum(dZ[-1], axis = 1, keepdims = True))\n",
    "        dA[-1] = np.dot(W[-1].T, dZ[-1])\n",
    "        \n",
    "        for i in range(self.n_layers-1, 0, -1):\n",
    "            dZ[i-1] = np.multiply(dA[i], self.__sigmoid_derivative(Z[i-1]))\n",
    "            if i-1 == 0:\n",
    "                dW[i-1] = 1. / m * np.dot(dZ[i-1], X.T)\n",
    "            else:\n",
    "                dW[i-1] = 1. / m * np.dot(dZ[i-1], A[i-2].T)\n",
    "            db[i-1] = 1. / m * np.sum(dZ[i-1], axis = 1, keepdims = True) \n",
    "            dA[i-1] = np.dot(W[i-1].T, dZ[i-1])\n",
    "        \n",
    "        grads = {\"dZ\" : dZ, \"dW\" : dW, \"db\" : db}\n",
    "        return grads\n",
    "    \n",
    "    def __update_parameters(self, grads):\n",
    "        W = self.parameters[\"W\"]\n",
    "        b = self.parameters[\"b\"]\n",
    "\n",
    "        dW = grads[\"dW\"]\n",
    "        db = grads[\"db\"]\n",
    "        \n",
    "        for i in range(self.n_layers):\n",
    "            self.S_dW[i] = self.beta * self.S_dW[i] + (1 - self.beta) * np.power(dW[i], 2)\n",
    "            self.S_db[i] = self.beta * self.S_db[i] + (1 - self.beta) * np.power(db[i], 2)\n",
    "            W[i] = W[i] - self.learning_rate * dW[i] / (np.sqrt(self.S_dW[i]) + self.epsilon)\n",
    "            b[i] = b[i] - self.learning_rate * db[i] / (np.sqrt(self.S_db[i]) + self.epsilon)\n",
    "\n",
    "    def fit(self, X_vert, Y_vert, print_cost = True):\n",
    "        self.n_iter = 0\n",
    "        X, Y = X_vert.T, Y_vert.T\n",
    "        \n",
    "        if self.normalize:\n",
    "            X, self.__mean, self.__std = self.__normalize(X)\n",
    "        \n",
    "        costs = []\n",
    "        cost_history = []\n",
    "        \n",
    "        m = X.shape[1]\n",
    "        n_x = X.shape[0]\n",
    "        n_y = Y.shape[0]\n",
    "        \n",
    "        self.__initialize_parameters(n_x, self.hidden_layer_sizes, n_y)\n",
    "\n",
    "        for i in range(self.max_iter):\n",
    "            self.n_iter = i\n",
    "            A, cache = self.__forward_propagation(X)\n",
    "\n",
    "            cost = self.compute_cost(A, Y)\n",
    "            cost_history.append(cost)\n",
    "            \n",
    "            grads = self.__backward_propagation(X, Y, cache)\n",
    "            self.__update_parameters(grads)\n",
    "            \n",
    "            \n",
    "            if print_cost and i % 1000 == 0:\n",
    "                print(\"{}-th iteration: {}\".format(i, cost))\n",
    "\n",
    "            if i % 1000 == 0:\n",
    "                costs.append(cost)\n",
    "  \n",
    "            if i > 1 and abs(cost-cost_history[-2]) < self.epsilon:\n",
    "                break\n",
    "\n",
    "        if print_cost:\n",
    "            plt.plot(costs)\n",
    "            plt.ylabel(\"Cost\")\n",
    "            plt.xlabel(\"Iteration, *100\")\n",
    "            plt.show()\n",
    "    \n",
    "    def predict_proba(self, X_vert):\n",
    "        X = X_vert.T\n",
    "        if self.normalize:\n",
    "            X, _, _ = self.__normalize(X, self.__mean, self.__std)\n",
    "        \n",
    "        probs = self.__forward_propagation(X)[0]\n",
    "        \n",
    "        return probs.T\n",
    "    \n",
    "    def predict(self, X_vert):\n",
    "        positive_probs = self.predict_proba(X_vert)\n",
    "        y_pred = self.to_classlabel(positive_probs)\n",
    "        return y_pred  \n",
    "\n",
    "    def to_classlabel(self, z):\n",
    "        return z.argmax(axis=1)"
   ]
  },
  {
   "cell_type": "code",
   "execution_count": 3,
   "metadata": {},
   "outputs": [],
   "source": [
    "from sklearn import datasets\n",
    "iris = datasets.load_iris()\n",
    "\n",
    "X = iris.data\n",
    "Y = iris.target.reshape((X.shape[0], 1))"
   ]
  },
  {
   "cell_type": "code",
   "execution_count": 4,
   "metadata": {},
   "outputs": [
    {
     "name": "stdout",
     "output_type": "stream",
     "text": [
      "<class 'numpy.ndarray'>\n",
      "Training set: X=(120, 4), y=(120, 1)\n",
      "Test set: X=(30, 4), y=(30, 1)\n"
     ]
    }
   ],
   "source": [
    "X_train, X_test, y_train, y_test = train_test_split(X, Y, test_size = 0.2, shuffle = True)\n",
    "\n",
    "print(type(y_train))\n",
    "print('Training set: X={}, y={}'.format(X_train.shape, y_train.shape))\n",
    "print('Test set: X={}, y={}'.format(X_test.shape, y_test.shape))"
   ]
  },
  {
   "cell_type": "code",
   "execution_count": 5,
   "metadata": {},
   "outputs": [
    {
     "data": {
      "text/plain": [
       "(120, 3)"
      ]
     },
     "execution_count": 5,
     "metadata": {},
     "output_type": "execute_result"
    }
   ],
   "source": [
    "y_train = to_categorical(y_train)\n",
    "y_train.shape"
   ]
  },
  {
   "cell_type": "code",
   "execution_count": 6,
   "metadata": {},
   "outputs": [
    {
     "name": "stdout",
     "output_type": "stream",
     "text": [
      "0-th iteration: 0.3663378655657269\n",
      "1000-th iteration: 0.02217061281069724\n",
      "2000-th iteration: 0.017891872455391505\n",
      "3000-th iteration: 0.020552360354605004\n",
      "4000-th iteration: 0.01690790510635309\n"
     ]
    },
    {
     "data": {
      "image/png": "[encoded data removed]",
      "text/plain": [
       "<Figure size 432x288 with 1 Axes>"
      ]
     },
     "metadata": {
      "needs_background": "light"
     },
     "output_type": "display_data"
    }
   ],
   "source": [
    "cls = NeuralNet(normalize = False, learning_rate = 0.1, max_iter = 30000, hidden_layer_sizes=(50,), beta=0.8, epsilon=1e-6)\n",
    "cls.fit(X_train, y_train, print_cost=True)"
   ]
  },
  {
   "cell_type": "code",
   "execution_count": 7,
   "metadata": {},
   "outputs": [
    {
     "name": "stdout",
     "output_type": "stream",
     "text": [
      "{'W': [array([[ 3.71572931, -0.60094994, -5.43669008, -6.18588849],\n",
      "       [ 2.91919669,  0.45746476, -4.81335164, -6.53470404],\n",
      "       [ 3.59199356,  2.79075548, -6.25496111, -6.49480164],\n",
      "       [ 2.82391608,  1.53162902, -5.38977768, -6.83218664],\n",
      "       [ 5.19129579, -2.35046989, -5.97154814, -4.17748912],\n",
      "       [ 4.85348951, -2.31041622, -5.78822082, -4.40752807],\n",
      "       [ 4.89903136, -2.18901829, -5.74664959, -4.30733771],\n",
      "       [ 4.24328116, -2.00156313, -4.88895344, -5.24313145],\n",
      "       [ 4.45227839, -2.08034171, -5.54515564, -4.69298345],\n",
      "       [ 1.19017736,  4.15125496, -4.88648374, -6.74482012],\n",
      "       [ 4.82080536, -2.29552992, -5.82842963, -4.51199354],\n",
      "       [-0.76325275, -9.06894763,  5.60818456,  3.98416373],\n",
      "       [ 3.6816567 , -0.69502525, -5.28265103, -6.18111833],\n",
      "       [ 2.90619926,  1.50257264, -5.46733218, -6.83766059],\n",
      "       [ 4.81151847, -2.29263835, -5.79804624, -4.36931814],\n",
      "       [ 1.96516386,  3.56378617, -5.42449236, -6.99014969],\n",
      "       [ 2.51435629,  3.92789098, -6.15226425, -7.04492637],\n",
      "       [ 5.00015887, -2.22663808, -5.85622202, -4.27573421],\n",
      "       [ 0.12533083,  8.476199  , -5.36848951, -6.01700837],\n",
      "       [-0.03322424,  8.32311489, -5.23582073, -6.01371382],\n",
      "       [ 0.06725081,  8.31256336, -5.27793474, -6.02554129],\n",
      "       [ 2.84767566,  1.93096062, -5.65064073, -6.89770874],\n",
      "       [ 1.09704793,  4.14631579, -4.68639016, -6.58808901],\n",
      "       [ 2.81537556,  2.09819024, -5.71476247, -6.91027291],\n",
      "       [ 5.03702269, -2.27551988, -5.91258222, -4.31503853],\n",
      "       [-0.09528838,  8.75819454, -5.21689051, -5.77269243],\n",
      "       [ 3.38890957,  3.03878292, -6.24138975, -6.59109127],\n",
      "       [ 4.73304939, -2.17162721, -5.58323225, -4.4103752 ],\n",
      "       [ 4.72002398, -2.26017806, -5.78970696, -4.55693483],\n",
      "       [-0.24634027, -1.69158597, -0.571458  , -0.38070432],\n",
      "       [-1.48847171, -3.96917358,  1.45968872, 13.71871995],\n",
      "       [ 1.6175487 , -1.84961917, -2.31075295, -2.57972747],\n",
      "       [ 0.06628449,  8.65030319, -5.33317031, -5.89690751],\n",
      "       [ 0.01635411,  8.38784365, -5.30098001, -6.02769553],\n",
      "       [-1.52300568, -4.07793383,  1.65951883, 13.18886657],\n",
      "       [ 4.63959765, -2.42679494, -5.19859336, -3.77766936],\n",
      "       [ 2.98783982,  1.46646187, -5.58323387, -6.82712205],\n",
      "       [ 2.87111356,  1.57987663, -5.46747071, -6.84818129],\n",
      "       [ 2.91247359,  1.66450158, -5.60145696, -6.86257736],\n",
      "       [ 0.23153244,  8.36747087, -5.48115447, -6.11899836],\n",
      "       [ 4.2190383 , -2.05678199, -4.93638833, -5.29565557],\n",
      "       [-1.61553968, -4.2483157 ,  1.21587747, 13.78478766],\n",
      "       [ 3.07441794,  1.13581415, -5.47470805, -6.77424974],\n",
      "       [ 5.20184381, -2.35791071, -5.92575268, -4.19404864],\n",
      "       [ 3.58436791, -2.87932966, -3.61252346, -3.58979719],\n",
      "       [-0.0375255 ,  8.23598033, -5.18433528, -5.98481329],\n",
      "       [ 0.21771836,  7.90919287, -5.38925341, -6.22503696],\n",
      "       [ 4.63092312, -2.62870098, -4.68753971, -4.94895681],\n",
      "       [ 0.05517072,  8.18645462, -5.29825304, -6.07957965],\n",
      "       [ 4.56020855, -2.58842508, -4.65924453, -4.95665029]]), array([[  9.3534986 ,  10.76487095,  -0.63521649,   8.3468073 ,\n",
      "          7.41138529,   7.53754615,   7.77650713,   4.5846647 ,\n",
      "          8.01687929,  10.2869712 ,   8.00771827, -18.09771886,\n",
      "         10.69591921,   7.32906131,   7.10928289,   8.51376385,\n",
      "          4.26420216,   7.93289477,   4.11975834,   5.9618922 ,\n",
      "          5.70638549,   8.26562507,  11.70938441,   6.97885231,\n",
      "          7.63467456,   4.69066242,  -0.39544976,   6.84659019,\n",
      "          7.42989711,  -4.26543753, -10.57316719,  -1.72849403,\n",
      "          4.51326426,   5.24407869, -15.68217611,   1.4914971 ,\n",
      "          6.22575629,   8.1424004 ,   5.55887416,   2.25437521,\n",
      "          5.33742152, -15.39237969,   9.24722349,   7.22711307,\n",
      "         -1.50138354,   6.23500003,   6.0786498 ,   1.22883627,\n",
      "          5.03364872,   1.33568099],\n",
      "       [  2.79001507,   1.52720589,   8.26997788,   3.42439613,\n",
      "          9.3491779 ,   8.11266669,   7.97956645,  -0.31906928,\n",
      "          5.66307415,   2.5969633 ,   8.01009701,  -5.29713514,\n",
      "          2.01550715,   3.36728066,   8.03737483,   3.71836987,\n",
      "          4.80518297,   8.28816115,   7.97178177,   7.14827821,\n",
      "          7.40514499,   3.96248082,   1.87536063,   4.2921569 ,\n",
      "          8.99374465,   8.43976732,   7.87604908,   7.07415882,\n",
      "          7.06023982,   0.54413972,  -3.05039872,   0.93190536,\n",
      "          8.2775211 ,   7.53713792,  -1.68624592,   4.49026602,\n",
      "          4.0465214 ,   3.50150913,   4.28911882,   8.28155515,\n",
      "          0.21842315,  -2.14448238,   3.50901391,   9.51438616,\n",
      "          0.61351243,   7.21356548,   6.81742113,   0.49150471,\n",
      "          7.45283419,   0.48451428],\n",
      "       [ -4.83214418,  -4.76999904,  -8.74552136,  -5.70482263,\n",
      "         -9.85007207,  -8.84303163,  -8.96906231,  -2.910724  ,\n",
      "         -7.12736923,  -5.50289712,  -8.62973637,   5.82580922,\n",
      "         -4.9194756 ,  -5.80535365,  -8.71228088,  -6.14152347,\n",
      "         -7.10149304,  -9.16396998,  -9.12879652,  -8.65208259,\n",
      "         -8.71676505,  -6.24248168,  -5.59199153,  -6.30607206,\n",
      "         -9.43341659,  -9.75495362,  -8.47971911,  -8.02150764,\n",
      "         -8.10829752,  -0.39047203,   3.56880919,  -0.92107242,\n",
      "         -9.60186989,  -8.79773837,   2.24843166,  -4.21563822,\n",
      "         -5.91227206,  -5.75016455,  -5.94656049,  -9.21314228,\n",
      "         -3.09167691,   2.70566081,  -5.71108801,  -9.84495578,\n",
      "         -1.34673495,  -8.75231162,  -8.33035396,  -1.26477746,\n",
      "         -8.69027243,  -1.28661723]])], 'b': [array([[  4.80417405],\n",
      "       [  3.63810754],\n",
      "       [  6.22895859],\n",
      "       [  4.66166835],\n",
      "       [  5.97807981],\n",
      "       [  5.82233353],\n",
      "       [  5.47513387],\n",
      "       [  1.1535125 ],\n",
      "       [  4.83535582],\n",
      "       [  4.4063425 ],\n",
      "       [  5.74807936],\n",
      "       [-10.39876369],\n",
      "       [  4.34932942],\n",
      "       [  4.7186101 ],\n",
      "       [  5.70185229],\n",
      "       [  4.54365164],\n",
      "       [  5.06715392],\n",
      "       [  5.62355232],\n",
      "       [  5.54298071],\n",
      "       [  5.57445016],\n",
      "       [  5.36184106],\n",
      "       [  4.97850467],\n",
      "       [  3.68597393],\n",
      "       [  5.0842985 ],\n",
      "       [  6.16782258],\n",
      "       [  5.94398509],\n",
      "       [  6.08671793],\n",
      "       [  5.18506216],\n",
      "       [  5.22825887],\n",
      "       [ -1.99294598],\n",
      "       [-12.97302546],\n",
      "       [ -1.2991974 ],\n",
      "       [  5.61408767],\n",
      "       [  5.38266001],\n",
      "       [-12.50730725],\n",
      "       [  3.43347   ],\n",
      "       [  4.95140558],\n",
      "       [  4.72001731],\n",
      "       [  4.98303289],\n",
      "       [  5.63339057],\n",
      "       [  1.71041764],\n",
      "       [-10.82708998],\n",
      "       [  4.69469523],\n",
      "       [  6.29424817],\n",
      "       [ -2.36521415],\n",
      "       [  5.68503172],\n",
      "       [  5.30464777],\n",
      "       [ -1.0317278 ],\n",
      "       [  5.71239744],\n",
      "       [ -0.85431683]]), array([[-16.36410776],\n",
      "       [ -0.64921704],\n",
      "       [  1.03069241]])]}\n"
     ]
    }
   ],
   "source": [
    "print(cls.parameters)"
   ]
  },
  {
   "cell_type": "code",
   "execution_count": 8,
   "metadata": {},
   "outputs": [
    {
     "data": {
      "text/plain": [
       "array([[5.94808528e-009, 9.99998534e-001, 1.46049342e-006],\n",
       "       [2.44157028e-010, 1.00000000e+000, 2.62598775e-018],\n",
       "       [5.48162222e-036, 1.91968529e-011, 1.00000000e+000],\n",
       "       [1.44014949e-011, 2.09883690e-002, 9.79011631e-001],\n",
       "       [9.99999991e-001, 8.62833184e-009, 2.16498599e-242],\n",
       "       [6.10370814e-017, 1.00000000e+000, 1.38975782e-093],\n",
       "       [9.99999991e-001, 8.65109463e-009, 2.21795495e-242],\n",
       "       [4.02056695e-028, 7.25447725e-008, 9.99999927e-001],\n",
       "       [7.68576120e-010, 9.99999999e-001, 1.32799672e-011],\n",
       "       [9.99999982e-001, 1.81600998e-008, 2.42016083e-242],\n",
       "       [2.88625285e-012, 2.34534779e-002, 9.76546522e-001],\n",
       "       [4.25819669e-020, 1.00000000e+000, 9.15185720e-084],\n",
       "       [2.54783613e-030, 2.85928810e-008, 9.99999971e-001],\n",
       "       [9.99999993e-001, 7.07495739e-009, 2.14452768e-242],\n",
       "       [3.37330944e-028, 6.38735462e-009, 9.99999994e-001],\n",
       "       [9.99999996e-001, 4.19993521e-009, 6.11052770e-242],\n",
       "       [9.99999995e-001, 5.02250527e-009, 2.30146436e-242],\n",
       "       [9.99999993e-001, 6.66498743e-009, 2.16264404e-242],\n",
       "       [9.99999994e-001, 5.70972215e-009, 2.14964348e-242],\n",
       "       [4.81390178e-023, 5.95053067e-007, 9.99999405e-001],\n",
       "       [9.99999996e-001, 3.88201388e-009, 2.22096315e-242],\n",
       "       [1.35200545e-020, 1.00000000e+000, 4.93153384e-071],\n",
       "       [1.68611806e-017, 1.00000000e+000, 1.72154125e-052],\n",
       "       [3.92944470e-014, 1.00000000e+000, 1.92795485e-032],\n",
       "       [8.56179561e-021, 1.00000000e+000, 2.46539955e-083],\n",
       "       [3.19870299e-009, 9.99999954e-001, 4.32252995e-008],\n",
       "       [5.14577922e-011, 1.00000000e+000, 7.25749235e-018],\n",
       "       [9.99999991e-001, 9.35934458e-009, 2.19003632e-242],\n",
       "       [6.04986588e-024, 1.00000000e+000, 6.08328700e-103],\n",
       "       [2.65665756e-029, 6.73983428e-008, 9.99999933e-001]])"
      ]
     },
     "execution_count": 8,
     "metadata": {},
     "output_type": "execute_result"
    }
   ],
   "source": [
    "Y_prob = cls.predict_proba(X_test)\n",
    "Y_prob"
   ]
  },
  {
   "cell_type": "code",
   "execution_count": 9,
   "metadata": {},
   "outputs": [],
   "source": [
    "Y_hat = cls.predict(X_test)"
   ]
  },
  {
   "cell_type": "code",
   "execution_count": 10,
   "metadata": {},
   "outputs": [
    {
     "data": {
      "text/plain": [
       "1.0"
      ]
     },
     "execution_count": 10,
     "metadata": {},
     "output_type": "execute_result"
    }
   ],
   "source": [
    "accuracy_score(y_test, Y_hat)"
   ]
  },
  {
   "cell_type": "code",
   "execution_count": 11,
   "metadata": {},
   "outputs": [],
   "source": [
    "from sklearn.neural_network import MLPClassifier\n",
    "clf = MLPClassifier(hidden_layer_sizes = (20,10), max_iter = 11000, activation = 'relu', solver = 'sgd', learning_rate_init = 0.001, learning_rate = 'constant')"
   ]
  },
  {
   "cell_type": "code",
   "execution_count": 12,
   "metadata": {},
   "outputs": [
    {
     "data": {
      "text/plain": [
       "MLPClassifier(activation='relu', alpha=0.0001, batch_size='auto', beta_1=0.9,\n",
       "              beta_2=0.999, early_stopping=False, epsilon=1e-08,\n",
       "              hidden_layer_sizes=(20, 10), learning_rate='constant',\n",
       "              learning_rate_init=0.001, max_fun=15000, max_iter=11000,\n",
       "              momentum=0.9, n_iter_no_change=10, nesterovs_momentum=True,\n",
       "              power_t=0.5, random_state=None, shuffle=True, solver='sgd',\n",
       "              tol=0.0001, validation_fraction=0.1, verbose=False,\n",
       "              warm_start=False)"
      ]
     },
     "execution_count": 12,
     "metadata": {},
     "output_type": "execute_result"
    }
   ],
   "source": [
    "clf.fit(X_train, y_train)"
   ]
  },
  {
   "cell_type": "code",
   "execution_count": 13,
   "metadata": {},
   "outputs": [
    {
     "data": {
      "text/plain": [
       "1.0"
      ]
     },
     "execution_count": 13,
     "metadata": {},
     "output_type": "execute_result"
    }
   ],
   "source": [
    "Y_pred = clf.predict(X_test)\n",
    "\n",
    "accuracy_score(to_categorical(y_test), Y_pred)"
   ]
  }
 ],
 "metadata": {
  "kernelspec": {
   "display_name": "Python 3",
   "language": "python",
   "name": "python3"
  },
  "language_info": {
   "codemirror_mode": {
    "name": "ipython",
    "version": 3
   },
   "file_extension": ".py",
   "mimetype": "text/x-python",
   "name": "python",
   "nbconvert_exporter": "python",
   "pygments_lexer": "ipython3",
   "version": "3.8.0"
  }
 },
 "nbformat": 4,
 "nbformat_minor": 4
}
