{
 "cells": [
  {
   "cell_type": "markdown",
   "metadata": {},
   "source": [
    "   # Garbage Classification"
   ]
  },
  {
   "cell_type": "markdown",
   "metadata": {},
   "source": [
    "Data consists of 2527 garbage images of 6 types: cardboard, glass, metal, paper, plastic and trash.\n",
    "\n",
    "In order to decrease algorithms' learning time, all the images will be decreased by IMG_DECR_COEF times (default: 16).\n",
    "But, obviously, it pretty influences the quality of image, and, in accordance, algorithms precision.\n",
    "\n",
    "An RGB images will be transformed into grayscale arrays."
   ]
  },
  {
   "cell_type": "markdown",
   "metadata": {},
   "source": [
    "## Global variables"
   ]
  },
  {
   "cell_type": "code",
   "execution_count": 1,
   "metadata": {},
   "outputs": [],
   "source": [
    "BASE_PATH = '../Garbage classification/Garbage classification/'\n",
    "\n",
    "FULL_DATASET  = 'one-indexed-files.txt'\n",
    "TRAIN_DATASET = 'one-indexed-files-notrash_train.txt'\n",
    "TEST_DATASET  = 'one-indexed-files-notrash_test.txt'\n",
    "VAL_DATASET   = 'one-indexed-files-notrash_val.txt'\n",
    "ZERO_IDX_DATASET = 'zero-indexed-files.txt'\n",
    "\n",
    "CLASSES = {\n",
    "        \"glass\":     1,\n",
    "        \"paper\":     2,\n",
    "        \"cardboard\": 3,\n",
    "        \"plastic\":   4,\n",
    "        \"metal\":     5,\n",
    "        \"trash\":     6\n",
    "    }\n",
    "TARGET_CLASS = \"cardboard\"\n",
    "\n",
    "TO_DECREASE_IMG = True\n",
    "IMG_DECR_COEF = 16\n",
    "ORIGINAL_SIZE = [0, 0]\n",
    "DECR_SIZE = [0, 0]"
   ]
  },
  {
   "cell_type": "markdown",
   "metadata": {},
   "source": [
    "## Logistic Regression methods"
   ]
  },
  {
   "cell_type": "code",
   "execution_count": 2,
   "metadata": {},
   "outputs": [],
   "source": [
    "def normalize(X):\n",
    "    mean = np.mean(X)\n",
    "    std = np.std(X)\n",
    "    X_new = (X - mean) / (std**2)\n",
    "    return X_new, mean, std"
   ]
  },
  {
   "cell_type": "code",
   "execution_count": 3,
   "metadata": {},
   "outputs": [],
   "source": [
    "def prepare_X(X):\n",
    "    X = pd.DataFrame(X)\n",
    "    m = X.shape[0]\n",
    "    ones = np.ones((m, 1))\n",
    "    X_new = np.column_stack((ones, X))\n",
    "    X_new = pd.DataFrame(X_new)\n",
    "    return X_new"
   ]
  },
  {
   "cell_type": "code",
   "execution_count": 4,
   "metadata": {},
   "outputs": [],
   "source": [
    "def sigmoid(z):\n",
    "    g = 1 / (1 + np.exp(-z))\n",
    "    return g"
   ]
  },
  {
   "cell_type": "code",
   "execution_count": 5,
   "metadata": {},
   "outputs": [],
   "source": [
    "def h(X, theta):\n",
    "    z = np.dot(X, theta)\n",
    "    return sigmoid(z)"
   ]
  },
  {
   "cell_type": "code",
   "execution_count": 6,
   "metadata": {},
   "outputs": [],
   "source": [
    "def cost_function(X, y, theta):\n",
    "    m = X.shape[0]\n",
    "    if m == 0:\n",
    "        return None\n",
    "    _h = h(X, theta)\n",
    "    J = (1/m) * np.sum(np.dot(-y, np.log(_h)) - np.dot(1-y, np.log(1-_h)))\n",
    "    return J"
   ]
  },
  {
   "cell_type": "code",
   "execution_count": 7,
   "metadata": {},
   "outputs": [],
   "source": [
    "def derivative_theta(X, y, theta):\n",
    "    m = X.shape[0]\n",
    "    if m == 0:\n",
    "        return None\n",
    "    X_t = np.transpose(X)\n",
    "    hyp = h(X, theta)\n",
    "    y = np.dot(y, 1)\n",
    "    d_theta = (1/m) * np.sum( np.dot(X_t, hyp - y) )\n",
    "    return d_theta"
   ]
  },
  {
   "cell_type": "code",
   "execution_count": 8,
   "metadata": {},
   "outputs": [],
   "source": [
    "def gradient_descent(X, y, theta, alpha, epsilon, num_iters, print_J = True):\n",
    "    m = X.shape[0]\n",
    "    J_history = []\n",
    "    \n",
    "    J = cost_function(X, y, theta)\n",
    "    \n",
    "    if print_J == True:\n",
    "        print(J)\n",
    "    J_history.append(J)\n",
    "    for i in range(num_iters):\n",
    "        theta = theta - alpha * derivative_theta(X, y, theta)\n",
    "        \n",
    "        J = cost_function(X, y, theta)\n",
    "        J_history.append(J)\n",
    "        \n",
    "        if i % 1000 == 0 and print_J == True:\n",
    "            print(J)\n",
    "        \n",
    "        if abs(J-J_history[-2]) < epsilon:\n",
    "            break\n",
    "            \n",
    "    return theta, J_history"
   ]
  },
  {
   "cell_type": "code",
   "execution_count": 9,
   "metadata": {},
   "outputs": [],
   "source": [
    "def predict(X, mean, std, theta):\n",
    "    mean = np.array(mean)\n",
    "    std = np.array(std)\n",
    "    mean.reshape((X.shape[0], 1))\n",
    "    std.reshape((X.shape[0], 1))\n",
    "    \n",
    "    X_new = (X - mean) / (std**2)\n",
    "    X_new = prepare_X(X_new)\n",
    "    \n",
    "    predictions = h(X_new, theta)\n",
    "    return predictions"
   ]
  },
  {
   "cell_type": "code",
   "execution_count": 10,
   "metadata": {},
   "outputs": [],
   "source": [
    "def MSE(y, y_pred):\n",
    "    y = np.asarray(y)\n",
    "    y_pred = np.asarray(y_pred)\n",
    "    mse = np.mean(np.square(np.subtract(y, y_pred)))\n",
    "    return mse"
   ]
  },
  {
   "cell_type": "code",
   "execution_count": 11,
   "metadata": {},
   "outputs": [],
   "source": [
    "def np2pd(np_array_pattern):\n",
    "    pd_table = pd.DataFrame(data   = np_array_pattern[1:,1:],\n",
    "                            index  = np_array_pattern[1:,0],\n",
    "                            columns= np_array_pattern[0,1:])\n",
    "    return pd_table"
   ]
  },
  {
   "cell_type": "markdown",
   "metadata": {},
   "source": [
    "## Dataset and image management"
   ]
  },
  {
   "cell_type": "code",
   "execution_count": 12,
   "metadata": {},
   "outputs": [],
   "source": [
    "def read_dataset(filename):\n",
    "    df_path = BASE_PATH + filename\n",
    "    df = pd.read_csv(df_path, sep=' ', names=[\"picture\", \"class\"])\n",
    "    X = df[\"picture\"]\n",
    "    y = df[\"class\"]\n",
    "    \n",
    "    X = pd.DataFrame(X)\n",
    "    y = pd.DataFrame(y)\n",
    "    return X, y"
   ]
  },
  {
   "cell_type": "markdown",
   "metadata": {},
   "source": [
    "### Image-dataset management"
   ]
  },
  {
   "cell_type": "code",
   "execution_count": 13,
   "metadata": {
    "scrolled": true
   },
   "outputs": [],
   "source": [
    "def transform_dataset(X):\n",
    "    # First block is necessary to find out the shape of X and save some image metrics\n",
    "    # to set here:\n",
    "    global ORIGINAL_SIZE\n",
    "    global DECR_SIZE\n",
    "    global TO_DECREASE_IMG\n",
    "    \n",
    "    img_name = X[\"picture\"][0]\n",
    "    img = Image.open(buildPath(img_name))\n",
    "    ORIGINAL_SIZE = img.size\n",
    "    if TO_DECREASE_IMG == True:    \n",
    "        decr_img = decreaseImg(img)\n",
    "        DECR_SIZE = decr_img.size\n",
    "        img_arr = img2gray_vect(decr_img)\n",
    "    else:\n",
    "        img_arr = img2gray_vect(img)\n",
    "    \n",
    "    X_res = np.zeros((X.shape[0], len(img_arr)))\n",
    "    \n",
    "    gray_img_vect = 0\n",
    "    for i, img_name in enumerate(np.asarray(X[\"picture\"])):\n",
    "        img = Image.open(buildPath(img_name))\n",
    "        if TO_DECREASE_IMG == True:\n",
    "            decr_img = decreaseImg(img)\n",
    "            gray_img_vect = img2gray_vect(decr_img)\n",
    "        else:\n",
    "            gray_img_vect = img2gray_vect(img)\n",
    "            \n",
    "        X_res[i][:] = gray_img_vect\n",
    "        \n",
    "    X_res = pd.DataFrame(X_res)\n",
    "    return X_res"
   ]
  },
  {
   "cell_type": "code",
   "execution_count": 14,
   "metadata": {},
   "outputs": [],
   "source": [
    "def buildPath(img_name):\n",
    "    global BASE_PATH\n",
    "    \n",
    "    #pathes is, in fact, a list, considered to contain a single element\n",
    "    pathes = glob.glob(os.path.join(BASE_PATH, '*/', img_name))\n",
    "    path = pathes[0]\n",
    "    return path"
   ]
  },
  {
   "cell_type": "markdown",
   "metadata": {},
   "source": [
    "### Garbage classes dataset management"
   ]
  },
  {
   "cell_type": "code",
   "execution_count": 15,
   "metadata": {},
   "outputs": [],
   "source": [
    "def prepare_target_class(y):\n",
    "    global TARGET_CLASS\n",
    "    \n",
    "    y_res = np.zeros((max(y.shape), 1))\n",
    "    class_value = get_class_value(TARGET_CLASS)\n",
    "    for i, _class in enumerate(np.asarray(y)):\n",
    "        if _class == class_value:\n",
    "            y_res[i][0] = 1;\n",
    "    y_res = pd.DataFrame(y_res)\n",
    "    return y_res"
   ]
  },
  {
   "cell_type": "code",
   "execution_count": 16,
   "metadata": {},
   "outputs": [],
   "source": [
    "def get_class_value(class_name):\n",
    "    return CLASSES.get(class_name.lower(), 0)"
   ]
  },
  {
   "cell_type": "code",
   "execution_count": 17,
   "metadata": {},
   "outputs": [],
   "source": [
    "def int2str_dataset(y):\n",
    "    for i, (class_str, class_id) in enumerate(CLASSES.items()):\n",
    "        y = y.replace(class_id, class_str)\n",
    "    return y"
   ]
  },
  {
   "cell_type": "code",
   "execution_count": 18,
   "metadata": {},
   "outputs": [],
   "source": [
    "def plot_prop(ax, column, num_bins, x_label, y_label, title):\n",
    "    n, bins, patches = ax.hist(column, bins=num_bins, density=0)\n",
    "    ax.set_xlabel(x_label)\n",
    "    ax.set_ylabel(y_label)\n",
    "    ax.set_title(title)\n",
    "    \n",
    "    return patches"
   ]
  },
  {
   "cell_type": "markdown",
   "metadata": {},
   "source": [
    "### Image management"
   ]
  },
  {
   "cell_type": "code",
   "execution_count": 19,
   "metadata": {},
   "outputs": [],
   "source": [
    "def img2gray_vect(img):\n",
    "    img_gray_vect = np.asarray(img.convert('L')).reshape(-1)\n",
    "    return img_gray_vect"
   ]
  },
  {
   "cell_type": "code",
   "execution_count": 20,
   "metadata": {},
   "outputs": [],
   "source": [
    "global IMG_DECR_COEF\n",
    "def decreaseImg(img, decr_coef = IMG_DECR_COEF):\n",
    "    new_size = np.divide(img.size, decr_coef)\n",
    "    new_size = [ int(math.modf(new_size[0])[1]), int(math.modf(new_size[1])[1]) ]\n",
    "    new_img = img.resize(new_size)\n",
    "    return new_img"
   ]
  },
  {
   "cell_type": "code",
   "execution_count": 21,
   "metadata": {},
   "outputs": [],
   "source": [
    "def increaseImg(img):\n",
    "    global IMG_DECR_COEF\n",
    "    \n",
    "    new_size = np.dot(img.size, IMG_DECR_COEF)\n",
    "    new_size = [ int(math.modf(new_size[0])[1]), int(math.modf(new_size[1])[1]) ]\n",
    "    new_img = img.resize(new_size)\n",
    "    return new_img"
   ]
  },
  {
   "cell_type": "markdown",
   "metadata": {},
   "source": [
    "## Imports"
   ]
  },
  {
   "cell_type": "code",
   "execution_count": 22,
   "metadata": {},
   "outputs": [
    {
     "name": "stderr",
     "output_type": "stream",
     "text": [
      "Using TensorFlow backend.\n"
     ]
    }
   ],
   "source": [
    "import numpy as np\n",
    "import pandas as pd\n",
    "from pandas import DataFrame\n",
    "\n",
    "import PIL\n",
    "from PIL import Image\n",
    "import matplotlib.pyplot as plt\n",
    "from keras.preprocessing.image import load_img\n",
    "import IPython.display\n",
    "\n",
    "import glob, os\n",
    "import random\n",
    "\n",
    "import math"
   ]
  },
  {
   "cell_type": "markdown",
   "metadata": {},
   "source": [
    "## Data illustration"
   ]
  },
  {
   "cell_type": "code",
   "execution_count": 23,
   "metadata": {},
   "outputs": [
    {
     "data": {
      "image/png": "[encoded data removed]",
      "text/plain": [
       "<Figure size 432x288 with 6 Axes>"
      ]
     },
     "metadata": {
      "needs_background": "light"
     },
     "output_type": "display_data"
    }
   ],
   "source": [
    "imgs_list = [\"glass7.jpg\", \"paper1.jpg\", \"cardboard55.jpg\", \"plastic32.jpg\", \"metal20.jpg\", \"trash66.jpg\"]\n",
    "show_gray_img = None\n",
    "\n",
    "for i, img_name in enumerate(imgs_list):\n",
    "    img = Image.open(buildPath(img_name))\n",
    "    img_arr = np.array(img)\n",
    "    plt.subplot(2, 3, i+1)\n",
    "    plt.imshow(PIL.Image.fromarray(img_arr))\n",
    "    plt.title(img_name)\n",
    "    \n",
    "    # to show in the next cell:\n",
    "    show_gray_img = img"
   ]
  },
  {
   "cell_type": "code",
   "execution_count": 24,
   "metadata": {},
   "outputs": [
    {
     "name": "stdout",
     "output_type": "stream",
     "text": [
      "Gray representation:\n"
     ]
    },
    {
     "data": {
      "image/png": "[encoded data removed]",
      "text/plain": [
       "<PIL.Image.Image image mode=L size=512x384 at 0x18BB5FC8D30>"
      ]
     },
     "metadata": {},
     "output_type": "display_data"
    }
   ],
   "source": [
    "img_gray_vect = np.asarray(show_gray_img.convert('L'))\n",
    "print(\"Gray representation:\")\n",
    "IPython.display.display(PIL.Image.fromarray(img_gray_vect))"
   ]
  },
  {
   "cell_type": "markdown",
   "metadata": {},
   "source": [
    "# Realization"
   ]
  },
  {
   "cell_type": "markdown",
   "metadata": {},
   "source": [
    "## Prepare datasets"
   ]
  },
  {
   "cell_type": "code",
   "execution_count": 25,
   "metadata": {},
   "outputs": [],
   "source": [
    "X_train_raw, y_train_raw = read_dataset(TRAIN_DATASET)\n",
    "X_test_raw, y_test_raw   = read_dataset(TEST_DATASET)\n",
    "X_val_raw, y_val_raw     = read_dataset(VAL_DATASET)"
   ]
  },
  {
   "cell_type": "code",
   "execution_count": 26,
   "metadata": {},
   "outputs": [
    {
     "name": "stdout",
     "output_type": "stream",
     "text": [
      "Train datasets' shapes:\n",
      "X: [1768    1]\n",
      "y: [1768    1]\n"
     ]
    }
   ],
   "source": [
    "print(\"Train datasets' shapes:\")\n",
    "print(\"X: %s\" % np.array(X_train_raw.shape))\n",
    "print(\"y: %s\" % np.array(y_train_raw.shape))"
   ]
  },
  {
   "cell_type": "code",
   "execution_count": 27,
   "metadata": {},
   "outputs": [
    {
     "name": "stdout",
     "output_type": "stream",
     "text": [
      "Test datasets' shapes:\n",
      "X: [431   1]\n",
      "y: [431   1]\n"
     ]
    }
   ],
   "source": [
    "print(\"Test datasets' shapes:\")\n",
    "print(\"X: %s\" % np.array(X_test_raw.shape))\n",
    "print(\"y: %s\" % np.array(y_test_raw.shape))"
   ]
  },
  {
   "cell_type": "code",
   "execution_count": 28,
   "metadata": {},
   "outputs": [
    {
     "name": "stdout",
     "output_type": "stream",
     "text": [
      "Val datasets' shapes:\n",
      "X: [328   1]\n",
      "y: [328   1]\n"
     ]
    }
   ],
   "source": [
    "print(\"Val datasets' shapes:\")\n",
    "print(\"X: %s\" % np.array(X_val_raw.shape))\n",
    "print(\"y: %s\" % np.array(y_val_raw.shape))"
   ]
  },
  {
   "cell_type": "code",
   "execution_count": 29,
   "metadata": {},
   "outputs": [
    {
     "data": {
      "text/html": [
       "<div>\n",
       "<style scoped>\n",
       "    .dataframe tbody tr th:only-of-type {\n",
       "        vertical-align: middle;\n",
       "    }\n",
       "\n",
       "    .dataframe tbody tr th {\n",
       "        vertical-align: top;\n",
       "    }\n",
       "\n",
       "    .dataframe thead th {\n",
       "        text-align: right;\n",
       "    }\n",
       "</style>\n",
       "<table border=\"1\" class=\"dataframe\">\n",
       "  <thead>\n",
       "    <tr style=\"text-align: right;\">\n",
       "      <th></th>\n",
       "      <th>class</th>\n",
       "    </tr>\n",
       "  </thead>\n",
       "  <tbody>\n",
       "    <tr>\n",
       "      <th>0</th>\n",
       "      <td>cardboard</td>\n",
       "    </tr>\n",
       "    <tr>\n",
       "      <th>1</th>\n",
       "      <td>paper</td>\n",
       "    </tr>\n",
       "    <tr>\n",
       "      <th>2</th>\n",
       "      <td>paper</td>\n",
       "    </tr>\n",
       "    <tr>\n",
       "      <th>3</th>\n",
       "      <td>glass</td>\n",
       "    </tr>\n",
       "    <tr>\n",
       "      <th>4</th>\n",
       "      <td>glass</td>\n",
       "    </tr>\n",
       "    <tr>\n",
       "      <th>5</th>\n",
       "      <td>metal</td>\n",
       "    </tr>\n",
       "    <tr>\n",
       "      <th>6</th>\n",
       "      <td>cardboard</td>\n",
       "    </tr>\n",
       "    <tr>\n",
       "      <th>7</th>\n",
       "      <td>trash</td>\n",
       "    </tr>\n",
       "    <tr>\n",
       "      <th>8</th>\n",
       "      <td>paper</td>\n",
       "    </tr>\n",
       "    <tr>\n",
       "      <th>9</th>\n",
       "      <td>paper</td>\n",
       "    </tr>\n",
       "  </tbody>\n",
       "</table>\n",
       "</div>"
      ],
      "text/plain": [
       "       class\n",
       "0  cardboard\n",
       "1      paper\n",
       "2      paper\n",
       "3      glass\n",
       "4      glass\n",
       "5      metal\n",
       "6  cardboard\n",
       "7      trash\n",
       "8      paper\n",
       "9      paper"
      ]
     },
     "execution_count": 29,
     "metadata": {},
     "output_type": "execute_result"
    }
   ],
   "source": [
    "classes = pd.concat([y_train_raw, y_test_raw, y_val_raw])\n",
    "classes = int2str_dataset(classes)\n",
    "classes.head(10)"
   ]
  },
  {
   "cell_type": "code",
   "execution_count": 30,
   "metadata": {},
   "outputs": [
    {
     "data": {
      "image/png": "[encoded data removed]",
      "text/plain": [
       "<Figure size 504x504 with 1 Axes>"
      ]
     },
     "metadata": {
      "needs_background": "light"
     },
     "output_type": "display_data"
    }
   ],
   "source": [
    "fig, ax = plt.subplots(figsize=(7,7))\n",
    "ax = plot_prop(ax, classes['class'], 50, 'Classes', 'Number of class images', 'Histogram of garbage classes:')\n",
    "    \n",
    "plt.show()"
   ]
  },
  {
   "cell_type": "markdown",
   "metadata": {},
   "source": [
    "Since data consists of images' names (and images, accordingly), there is no necessity to check for null values."
   ]
  },
  {
   "cell_type": "code",
   "execution_count": 31,
   "metadata": {},
   "outputs": [
    {
     "data": {
      "text/html": [
       "<div>\n",
       "<style scoped>\n",
       "    .dataframe tbody tr th:only-of-type {\n",
       "        vertical-align: middle;\n",
       "    }\n",
       "\n",
       "    .dataframe tbody tr th {\n",
       "        vertical-align: top;\n",
       "    }\n",
       "\n",
       "    .dataframe thead th {\n",
       "        text-align: right;\n",
       "    }\n",
       "</style>\n",
       "<table border=\"1\" class=\"dataframe\">\n",
       "  <thead>\n",
       "    <tr style=\"text-align: right;\">\n",
       "      <th></th>\n",
       "      <th>picture</th>\n",
       "    </tr>\n",
       "  </thead>\n",
       "  <tbody>\n",
       "    <tr>\n",
       "      <th>0</th>\n",
       "      <td>cardboard202.jpg</td>\n",
       "    </tr>\n",
       "    <tr>\n",
       "      <th>1</th>\n",
       "      <td>paper472.jpg</td>\n",
       "    </tr>\n",
       "    <tr>\n",
       "      <th>2</th>\n",
       "      <td>paper522.jpg</td>\n",
       "    </tr>\n",
       "    <tr>\n",
       "      <th>3</th>\n",
       "      <td>glass189.jpg</td>\n",
       "    </tr>\n",
       "    <tr>\n",
       "      <th>4</th>\n",
       "      <td>glass325.jpg</td>\n",
       "    </tr>\n",
       "    <tr>\n",
       "      <th>5</th>\n",
       "      <td>metal63.jpg</td>\n",
       "    </tr>\n",
       "    <tr>\n",
       "      <th>6</th>\n",
       "      <td>cardboard61.jpg</td>\n",
       "    </tr>\n",
       "    <tr>\n",
       "      <th>7</th>\n",
       "      <td>trash50.jpg</td>\n",
       "    </tr>\n",
       "    <tr>\n",
       "      <th>8</th>\n",
       "      <td>paper305.jpg</td>\n",
       "    </tr>\n",
       "    <tr>\n",
       "      <th>9</th>\n",
       "      <td>paper199.jpg</td>\n",
       "    </tr>\n",
       "  </tbody>\n",
       "</table>\n",
       "</div>"
      ],
      "text/plain": [
       "            picture\n",
       "0  cardboard202.jpg\n",
       "1      paper472.jpg\n",
       "2      paper522.jpg\n",
       "3      glass189.jpg\n",
       "4      glass325.jpg\n",
       "5       metal63.jpg\n",
       "6   cardboard61.jpg\n",
       "7       trash50.jpg\n",
       "8      paper305.jpg\n",
       "9      paper199.jpg"
      ]
     },
     "execution_count": 31,
     "metadata": {},
     "output_type": "execute_result"
    }
   ],
   "source": [
    "X_train_raw.head(10)"
   ]
  },
  {
   "cell_type": "code",
   "execution_count": 32,
   "metadata": {},
   "outputs": [
    {
     "data": {
      "text/html": [
       "<div>\n",
       "<style scoped>\n",
       "    .dataframe tbody tr th:only-of-type {\n",
       "        vertical-align: middle;\n",
       "    }\n",
       "\n",
       "    .dataframe tbody tr th {\n",
       "        vertical-align: top;\n",
       "    }\n",
       "\n",
       "    .dataframe thead th {\n",
       "        text-align: right;\n",
       "    }\n",
       "</style>\n",
       "<table border=\"1\" class=\"dataframe\">\n",
       "  <thead>\n",
       "    <tr style=\"text-align: right;\">\n",
       "      <th></th>\n",
       "      <th>class</th>\n",
       "    </tr>\n",
       "  </thead>\n",
       "  <tbody>\n",
       "    <tr>\n",
       "      <th>0</th>\n",
       "      <td>3</td>\n",
       "    </tr>\n",
       "    <tr>\n",
       "      <th>1</th>\n",
       "      <td>2</td>\n",
       "    </tr>\n",
       "    <tr>\n",
       "      <th>2</th>\n",
       "      <td>2</td>\n",
       "    </tr>\n",
       "    <tr>\n",
       "      <th>3</th>\n",
       "      <td>1</td>\n",
       "    </tr>\n",
       "    <tr>\n",
       "      <th>4</th>\n",
       "      <td>1</td>\n",
       "    </tr>\n",
       "    <tr>\n",
       "      <th>5</th>\n",
       "      <td>5</td>\n",
       "    </tr>\n",
       "    <tr>\n",
       "      <th>6</th>\n",
       "      <td>3</td>\n",
       "    </tr>\n",
       "    <tr>\n",
       "      <th>7</th>\n",
       "      <td>6</td>\n",
       "    </tr>\n",
       "    <tr>\n",
       "      <th>8</th>\n",
       "      <td>2</td>\n",
       "    </tr>\n",
       "    <tr>\n",
       "      <th>9</th>\n",
       "      <td>2</td>\n",
       "    </tr>\n",
       "  </tbody>\n",
       "</table>\n",
       "</div>"
      ],
      "text/plain": [
       "   class\n",
       "0      3\n",
       "1      2\n",
       "2      2\n",
       "3      1\n",
       "4      1\n",
       "5      5\n",
       "6      3\n",
       "7      6\n",
       "8      2\n",
       "9      2"
      ]
     },
     "execution_count": 32,
     "metadata": {},
     "output_type": "execute_result"
    }
   ],
   "source": [
    "y_train_raw.head(10)"
   ]
  },
  {
   "cell_type": "markdown",
   "metadata": {},
   "source": [
    "You can change whether decrease images or not. If not, it's likely to be a data-overfitting.\n",
    "\n",
    "Default decision is to decrease by 16 times (IMG_DECR_COEF value)"
   ]
  },
  {
   "cell_type": "code",
   "execution_count": 33,
   "metadata": {},
   "outputs": [],
   "source": [
    "global IMG_DECR_COEF\n",
    "global TO_DECREASE_IMG\n",
    "#IMG_DECR_COEF = 4\n",
    "iters_count = 500\n",
    "############################\n",
    "'''\n",
    "TO_DECREASE_IMG = False\n",
    "iters_count = 50\n",
    "'''\n",
    "############################\n",
    "X_train = transform_dataset(X_train_raw)\n",
    "X_test  = transform_dataset(X_test_raw)\n",
    "X_val   = transform_dataset(X_val_raw)"
   ]
  },
  {
   "cell_type": "markdown",
   "metadata": {},
   "source": [
    "You can change which class to classify here or in a cell with global variables above.\n",
    "Default is cardboard classification.\n",
    "\n",
    "    1. glass\n",
    "    2. paper\n",
    "    3. cardboard\n",
    "    4. plastic\n",
    "    5. metal\n",
    "    6. trash"
   ]
  },
  {
   "cell_type": "code",
   "execution_count": 34,
   "metadata": {},
   "outputs": [],
   "source": [
    "global TARGET_CLASS\n",
    "#TARGET_CLASS = \"glass\"\n",
    "\n",
    "y_train = prepare_target_class(y_train_raw)\n",
    "y_test  = prepare_target_class(y_test_raw)\n",
    "y_val   = prepare_target_class(y_val_raw)"
   ]
  },
  {
   "cell_type": "code",
   "execution_count": 35,
   "metadata": {},
   "outputs": [
    {
     "data": {
      "text/html": [
       "<div>\n",
       "<style scoped>\n",
       "    .dataframe tbody tr th:only-of-type {\n",
       "        vertical-align: middle;\n",
       "    }\n",
       "\n",
       "    .dataframe tbody tr th {\n",
       "        vertical-align: top;\n",
       "    }\n",
       "\n",
       "    .dataframe thead th {\n",
       "        text-align: right;\n",
       "    }\n",
       "</style>\n",
       "<table border=\"1\" class=\"dataframe\">\n",
       "  <thead>\n",
       "    <tr style=\"text-align: right;\">\n",
       "      <th></th>\n",
       "      <th>0</th>\n",
       "      <th>1</th>\n",
       "      <th>2</th>\n",
       "      <th>3</th>\n",
       "      <th>4</th>\n",
       "      <th>5</th>\n",
       "      <th>6</th>\n",
       "      <th>7</th>\n",
       "      <th>8</th>\n",
       "      <th>9</th>\n",
       "      <th>...</th>\n",
       "      <th>758</th>\n",
       "      <th>759</th>\n",
       "      <th>760</th>\n",
       "      <th>761</th>\n",
       "      <th>762</th>\n",
       "      <th>763</th>\n",
       "      <th>764</th>\n",
       "      <th>765</th>\n",
       "      <th>766</th>\n",
       "      <th>767</th>\n",
       "    </tr>\n",
       "  </thead>\n",
       "  <tbody>\n",
       "    <tr>\n",
       "      <th>0</th>\n",
       "      <td>255.0</td>\n",
       "      <td>255.0</td>\n",
       "      <td>255.0</td>\n",
       "      <td>255.0</td>\n",
       "      <td>255.0</td>\n",
       "      <td>255.0</td>\n",
       "      <td>255.0</td>\n",
       "      <td>255.0</td>\n",
       "      <td>254.0</td>\n",
       "      <td>254.0</td>\n",
       "      <td>...</td>\n",
       "      <td>219.0</td>\n",
       "      <td>219.0</td>\n",
       "      <td>218.0</td>\n",
       "      <td>217.0</td>\n",
       "      <td>215.0</td>\n",
       "      <td>214.0</td>\n",
       "      <td>211.0</td>\n",
       "      <td>208.0</td>\n",
       "      <td>205.0</td>\n",
       "      <td>202.0</td>\n",
       "    </tr>\n",
       "    <tr>\n",
       "      <th>1</th>\n",
       "      <td>230.0</td>\n",
       "      <td>230.0</td>\n",
       "      <td>230.0</td>\n",
       "      <td>230.0</td>\n",
       "      <td>232.0</td>\n",
       "      <td>233.0</td>\n",
       "      <td>233.0</td>\n",
       "      <td>236.0</td>\n",
       "      <td>238.0</td>\n",
       "      <td>240.0</td>\n",
       "      <td>...</td>\n",
       "      <td>144.0</td>\n",
       "      <td>105.0</td>\n",
       "      <td>163.0</td>\n",
       "      <td>222.0</td>\n",
       "      <td>229.0</td>\n",
       "      <td>227.0</td>\n",
       "      <td>225.0</td>\n",
       "      <td>223.0</td>\n",
       "      <td>221.0</td>\n",
       "      <td>220.0</td>\n",
       "    </tr>\n",
       "    <tr>\n",
       "      <th>2</th>\n",
       "      <td>246.0</td>\n",
       "      <td>246.0</td>\n",
       "      <td>246.0</td>\n",
       "      <td>246.0</td>\n",
       "      <td>241.0</td>\n",
       "      <td>238.0</td>\n",
       "      <td>241.0</td>\n",
       "      <td>241.0</td>\n",
       "      <td>226.0</td>\n",
       "      <td>195.0</td>\n",
       "      <td>...</td>\n",
       "      <td>167.0</td>\n",
       "      <td>166.0</td>\n",
       "      <td>165.0</td>\n",
       "      <td>164.0</td>\n",
       "      <td>163.0</td>\n",
       "      <td>162.0</td>\n",
       "      <td>161.0</td>\n",
       "      <td>160.0</td>\n",
       "      <td>158.0</td>\n",
       "      <td>159.0</td>\n",
       "    </tr>\n",
       "    <tr>\n",
       "      <th>3</th>\n",
       "      <td>166.0</td>\n",
       "      <td>165.0</td>\n",
       "      <td>166.0</td>\n",
       "      <td>166.0</td>\n",
       "      <td>165.0</td>\n",
       "      <td>165.0</td>\n",
       "      <td>167.0</td>\n",
       "      <td>168.0</td>\n",
       "      <td>169.0</td>\n",
       "      <td>171.0</td>\n",
       "      <td>...</td>\n",
       "      <td>221.0</td>\n",
       "      <td>220.0</td>\n",
       "      <td>221.0</td>\n",
       "      <td>223.0</td>\n",
       "      <td>225.0</td>\n",
       "      <td>226.0</td>\n",
       "      <td>226.0</td>\n",
       "      <td>225.0</td>\n",
       "      <td>223.0</td>\n",
       "      <td>222.0</td>\n",
       "    </tr>\n",
       "    <tr>\n",
       "      <th>4</th>\n",
       "      <td>222.0</td>\n",
       "      <td>221.0</td>\n",
       "      <td>220.0</td>\n",
       "      <td>219.0</td>\n",
       "      <td>218.0</td>\n",
       "      <td>217.0</td>\n",
       "      <td>216.0</td>\n",
       "      <td>216.0</td>\n",
       "      <td>216.0</td>\n",
       "      <td>215.0</td>\n",
       "      <td>...</td>\n",
       "      <td>188.0</td>\n",
       "      <td>185.0</td>\n",
       "      <td>184.0</td>\n",
       "      <td>182.0</td>\n",
       "      <td>179.0</td>\n",
       "      <td>176.0</td>\n",
       "      <td>173.0</td>\n",
       "      <td>169.0</td>\n",
       "      <td>166.0</td>\n",
       "      <td>164.0</td>\n",
       "    </tr>\n",
       "    <tr>\n",
       "      <th>5</th>\n",
       "      <td>192.0</td>\n",
       "      <td>191.0</td>\n",
       "      <td>192.0</td>\n",
       "      <td>192.0</td>\n",
       "      <td>192.0</td>\n",
       "      <td>192.0</td>\n",
       "      <td>193.0</td>\n",
       "      <td>194.0</td>\n",
       "      <td>194.0</td>\n",
       "      <td>194.0</td>\n",
       "      <td>...</td>\n",
       "      <td>88.0</td>\n",
       "      <td>38.0</td>\n",
       "      <td>80.0</td>\n",
       "      <td>84.0</td>\n",
       "      <td>84.0</td>\n",
       "      <td>91.0</td>\n",
       "      <td>93.0</td>\n",
       "      <td>70.0</td>\n",
       "      <td>83.0</td>\n",
       "      <td>90.0</td>\n",
       "    </tr>\n",
       "    <tr>\n",
       "      <th>6</th>\n",
       "      <td>80.0</td>\n",
       "      <td>75.0</td>\n",
       "      <td>82.0</td>\n",
       "      <td>83.0</td>\n",
       "      <td>77.0</td>\n",
       "      <td>118.0</td>\n",
       "      <td>94.0</td>\n",
       "      <td>106.0</td>\n",
       "      <td>77.0</td>\n",
       "      <td>76.0</td>\n",
       "      <td>...</td>\n",
       "      <td>129.0</td>\n",
       "      <td>137.0</td>\n",
       "      <td>141.0</td>\n",
       "      <td>141.0</td>\n",
       "      <td>228.0</td>\n",
       "      <td>255.0</td>\n",
       "      <td>255.0</td>\n",
       "      <td>255.0</td>\n",
       "      <td>255.0</td>\n",
       "      <td>255.0</td>\n",
       "    </tr>\n",
       "    <tr>\n",
       "      <th>7</th>\n",
       "      <td>193.0</td>\n",
       "      <td>194.0</td>\n",
       "      <td>195.0</td>\n",
       "      <td>196.0</td>\n",
       "      <td>197.0</td>\n",
       "      <td>197.0</td>\n",
       "      <td>197.0</td>\n",
       "      <td>198.0</td>\n",
       "      <td>200.0</td>\n",
       "      <td>200.0</td>\n",
       "      <td>...</td>\n",
       "      <td>106.0</td>\n",
       "      <td>102.0</td>\n",
       "      <td>97.0</td>\n",
       "      <td>94.0</td>\n",
       "      <td>93.0</td>\n",
       "      <td>92.0</td>\n",
       "      <td>90.0</td>\n",
       "      <td>88.0</td>\n",
       "      <td>88.0</td>\n",
       "      <td>88.0</td>\n",
       "    </tr>\n",
       "    <tr>\n",
       "      <th>8</th>\n",
       "      <td>205.0</td>\n",
       "      <td>202.0</td>\n",
       "      <td>200.0</td>\n",
       "      <td>199.0</td>\n",
       "      <td>198.0</td>\n",
       "      <td>192.0</td>\n",
       "      <td>172.0</td>\n",
       "      <td>165.0</td>\n",
       "      <td>157.0</td>\n",
       "      <td>173.0</td>\n",
       "      <td>...</td>\n",
       "      <td>121.0</td>\n",
       "      <td>156.0</td>\n",
       "      <td>171.0</td>\n",
       "      <td>185.0</td>\n",
       "      <td>173.0</td>\n",
       "      <td>74.0</td>\n",
       "      <td>67.0</td>\n",
       "      <td>72.0</td>\n",
       "      <td>74.0</td>\n",
       "      <td>76.0</td>\n",
       "    </tr>\n",
       "    <tr>\n",
       "      <th>9</th>\n",
       "      <td>228.0</td>\n",
       "      <td>226.0</td>\n",
       "      <td>224.0</td>\n",
       "      <td>223.0</td>\n",
       "      <td>223.0</td>\n",
       "      <td>222.0</td>\n",
       "      <td>222.0</td>\n",
       "      <td>222.0</td>\n",
       "      <td>221.0</td>\n",
       "      <td>221.0</td>\n",
       "      <td>...</td>\n",
       "      <td>114.0</td>\n",
       "      <td>112.0</td>\n",
       "      <td>87.0</td>\n",
       "      <td>80.0</td>\n",
       "      <td>101.0</td>\n",
       "      <td>104.0</td>\n",
       "      <td>92.0</td>\n",
       "      <td>79.0</td>\n",
       "      <td>67.0</td>\n",
       "      <td>57.0</td>\n",
       "    </tr>\n",
       "  </tbody>\n",
       "</table>\n",
       "<p>10 rows × 768 columns</p>\n",
       "</div>"
      ],
      "text/plain": [
       "     0      1      2      3      4      5      6      7      8      9    ...  \\\n",
       "0  255.0  255.0  255.0  255.0  255.0  255.0  255.0  255.0  254.0  254.0  ...   \n",
       "1  230.0  230.0  230.0  230.0  232.0  233.0  233.0  236.0  238.0  240.0  ...   \n",
       "2  246.0  246.0  246.0  246.0  241.0  238.0  241.0  241.0  226.0  195.0  ...   \n",
       "3  166.0  165.0  166.0  166.0  165.0  165.0  167.0  168.0  169.0  171.0  ...   \n",
       "4  222.0  221.0  220.0  219.0  218.0  217.0  216.0  216.0  216.0  215.0  ...   \n",
       "5  192.0  191.0  192.0  192.0  192.0  192.0  193.0  194.0  194.0  194.0  ...   \n",
       "6   80.0   75.0   82.0   83.0   77.0  118.0   94.0  106.0   77.0   76.0  ...   \n",
       "7  193.0  194.0  195.0  196.0  197.0  197.0  197.0  198.0  200.0  200.0  ...   \n",
       "8  205.0  202.0  200.0  199.0  198.0  192.0  172.0  165.0  157.0  173.0  ...   \n",
       "9  228.0  226.0  224.0  223.0  223.0  222.0  222.0  222.0  221.0  221.0  ...   \n",
       "\n",
       "     758    759    760    761    762    763    764    765    766    767  \n",
       "0  219.0  219.0  218.0  217.0  215.0  214.0  211.0  208.0  205.0  202.0  \n",
       "1  144.0  105.0  163.0  222.0  229.0  227.0  225.0  223.0  221.0  220.0  \n",
       "2  167.0  166.0  165.0  164.0  163.0  162.0  161.0  160.0  158.0  159.0  \n",
       "3  221.0  220.0  221.0  223.0  225.0  226.0  226.0  225.0  223.0  222.0  \n",
       "4  188.0  185.0  184.0  182.0  179.0  176.0  173.0  169.0  166.0  164.0  \n",
       "5   88.0   38.0   80.0   84.0   84.0   91.0   93.0   70.0   83.0   90.0  \n",
       "6  129.0  137.0  141.0  141.0  228.0  255.0  255.0  255.0  255.0  255.0  \n",
       "7  106.0  102.0   97.0   94.0   93.0   92.0   90.0   88.0   88.0   88.0  \n",
       "8  121.0  156.0  171.0  185.0  173.0   74.0   67.0   72.0   74.0   76.0  \n",
       "9  114.0  112.0   87.0   80.0  101.0  104.0   92.0   79.0   67.0   57.0  \n",
       "\n",
       "[10 rows x 768 columns]"
      ]
     },
     "execution_count": 35,
     "metadata": {},
     "output_type": "execute_result"
    }
   ],
   "source": [
    "X_train.head(10)"
   ]
  },
  {
   "cell_type": "code",
   "execution_count": 36,
   "metadata": {},
   "outputs": [
    {
     "data": {
      "text/html": [
       "<div>\n",
       "<style scoped>\n",
       "    .dataframe tbody tr th:only-of-type {\n",
       "        vertical-align: middle;\n",
       "    }\n",
       "\n",
       "    .dataframe tbody tr th {\n",
       "        vertical-align: top;\n",
       "    }\n",
       "\n",
       "    .dataframe thead th {\n",
       "        text-align: right;\n",
       "    }\n",
       "</style>\n",
       "<table border=\"1\" class=\"dataframe\">\n",
       "  <thead>\n",
       "    <tr style=\"text-align: right;\">\n",
       "      <th></th>\n",
       "      <th>0</th>\n",
       "    </tr>\n",
       "  </thead>\n",
       "  <tbody>\n",
       "    <tr>\n",
       "      <th>0</th>\n",
       "      <td>1.0</td>\n",
       "    </tr>\n",
       "    <tr>\n",
       "      <th>1</th>\n",
       "      <td>0.0</td>\n",
       "    </tr>\n",
       "    <tr>\n",
       "      <th>2</th>\n",
       "      <td>0.0</td>\n",
       "    </tr>\n",
       "    <tr>\n",
       "      <th>3</th>\n",
       "      <td>0.0</td>\n",
       "    </tr>\n",
       "    <tr>\n",
       "      <th>4</th>\n",
       "      <td>0.0</td>\n",
       "    </tr>\n",
       "    <tr>\n",
       "      <th>5</th>\n",
       "      <td>0.0</td>\n",
       "    </tr>\n",
       "    <tr>\n",
       "      <th>6</th>\n",
       "      <td>1.0</td>\n",
       "    </tr>\n",
       "    <tr>\n",
       "      <th>7</th>\n",
       "      <td>0.0</td>\n",
       "    </tr>\n",
       "    <tr>\n",
       "      <th>8</th>\n",
       "      <td>0.0</td>\n",
       "    </tr>\n",
       "    <tr>\n",
       "      <th>9</th>\n",
       "      <td>0.0</td>\n",
       "    </tr>\n",
       "  </tbody>\n",
       "</table>\n",
       "</div>"
      ],
      "text/plain": [
       "     0\n",
       "0  1.0\n",
       "1  0.0\n",
       "2  0.0\n",
       "3  0.0\n",
       "4  0.0\n",
       "5  0.0\n",
       "6  1.0\n",
       "7  0.0\n",
       "8  0.0\n",
       "9  0.0"
      ]
     },
     "execution_count": 36,
     "metadata": {},
     "output_type": "execute_result"
    }
   ],
   "source": [
    "y_train.head(10)"
   ]
  },
  {
   "cell_type": "code",
   "execution_count": 37,
   "metadata": {},
   "outputs": [],
   "source": [
    "X_train_norm, mean_train, std_train = normalize(X_train)\n",
    "X_test_norm, mean_test, std_test = normalize(X_test)\n",
    "X_val_norm, mean_val, std_val = normalize(X_val)"
   ]
  },
  {
   "cell_type": "code",
   "execution_count": 38,
   "metadata": {},
   "outputs": [
    {
     "data": {
      "text/html": [
       "<div>\n",
       "<style scoped>\n",
       "    .dataframe tbody tr th:only-of-type {\n",
       "        vertical-align: middle;\n",
       "    }\n",
       "\n",
       "    .dataframe tbody tr th {\n",
       "        vertical-align: top;\n",
       "    }\n",
       "\n",
       "    .dataframe thead th {\n",
       "        text-align: right;\n",
       "    }\n",
       "</style>\n",
       "<table border=\"1\" class=\"dataframe\">\n",
       "  <thead>\n",
       "    <tr style=\"text-align: right;\">\n",
       "      <th></th>\n",
       "      <th>0</th>\n",
       "      <th>1</th>\n",
       "      <th>2</th>\n",
       "      <th>3</th>\n",
       "      <th>4</th>\n",
       "      <th>5</th>\n",
       "      <th>6</th>\n",
       "      <th>7</th>\n",
       "      <th>8</th>\n",
       "      <th>9</th>\n",
       "      <th>...</th>\n",
       "      <th>758</th>\n",
       "      <th>759</th>\n",
       "      <th>760</th>\n",
       "      <th>761</th>\n",
       "      <th>762</th>\n",
       "      <th>763</th>\n",
       "      <th>764</th>\n",
       "      <th>765</th>\n",
       "      <th>766</th>\n",
       "      <th>767</th>\n",
       "    </tr>\n",
       "  </thead>\n",
       "  <tbody>\n",
       "    <tr>\n",
       "      <th>0</th>\n",
       "      <td>0.034294</td>\n",
       "      <td>0.035741</td>\n",
       "      <td>0.037236</td>\n",
       "      <td>0.037237</td>\n",
       "      <td>0.037114</td>\n",
       "      <td>0.037192</td>\n",
       "      <td>0.036298</td>\n",
       "      <td>0.036896</td>\n",
       "      <td>0.036052</td>\n",
       "      <td>0.035053</td>\n",
       "      <td>...</td>\n",
       "      <td>0.023930</td>\n",
       "      <td>0.024930</td>\n",
       "      <td>0.025871</td>\n",
       "      <td>0.026545</td>\n",
       "      <td>0.026682</td>\n",
       "      <td>0.026714</td>\n",
       "      <td>0.025909</td>\n",
       "      <td>0.025547</td>\n",
       "      <td>0.025285</td>\n",
       "      <td>0.023833</td>\n",
       "    </tr>\n",
       "    <tr>\n",
       "      <th>1</th>\n",
       "      <td>0.017779</td>\n",
       "      <td>0.018863</td>\n",
       "      <td>0.019971</td>\n",
       "      <td>0.020259</td>\n",
       "      <td>0.021769</td>\n",
       "      <td>0.022747</td>\n",
       "      <td>0.022496</td>\n",
       "      <td>0.025067</td>\n",
       "      <td>0.026418</td>\n",
       "      <td>0.027098</td>\n",
       "      <td>...</td>\n",
       "      <td>-0.007979</td>\n",
       "      <td>-0.025062</td>\n",
       "      <td>0.000584</td>\n",
       "      <td>0.028919</td>\n",
       "      <td>0.033516</td>\n",
       "      <td>0.033035</td>\n",
       "      <td>0.032808</td>\n",
       "      <td>0.033161</td>\n",
       "      <td>0.033672</td>\n",
       "      <td>0.033284</td>\n",
       "    </tr>\n",
       "    <tr>\n",
       "      <th>2</th>\n",
       "      <td>0.028349</td>\n",
       "      <td>0.029665</td>\n",
       "      <td>0.031021</td>\n",
       "      <td>0.031125</td>\n",
       "      <td>0.027774</td>\n",
       "      <td>0.026030</td>\n",
       "      <td>0.027515</td>\n",
       "      <td>0.028180</td>\n",
       "      <td>0.019192</td>\n",
       "      <td>0.001528</td>\n",
       "      <td>...</td>\n",
       "      <td>0.001806</td>\n",
       "      <td>0.001688</td>\n",
       "      <td>0.001503</td>\n",
       "      <td>0.001377</td>\n",
       "      <td>0.001300</td>\n",
       "      <td>0.001430</td>\n",
       "      <td>0.001271</td>\n",
       "      <td>0.001183</td>\n",
       "      <td>0.000647</td>\n",
       "      <td>0.001255</td>\n",
       "    </tr>\n",
       "    <tr>\n",
       "      <th>3</th>\n",
       "      <td>-0.024497</td>\n",
       "      <td>-0.025018</td>\n",
       "      <td>-0.024230</td>\n",
       "      <td>-0.023205</td>\n",
       "      <td>-0.022930</td>\n",
       "      <td>-0.021900</td>\n",
       "      <td>-0.018910</td>\n",
       "      <td>-0.017272</td>\n",
       "      <td>-0.015131</td>\n",
       "      <td>-0.012109</td>\n",
       "      <td>...</td>\n",
       "      <td>0.024781</td>\n",
       "      <td>0.025369</td>\n",
       "      <td>0.027251</td>\n",
       "      <td>0.029394</td>\n",
       "      <td>0.031563</td>\n",
       "      <td>0.032549</td>\n",
       "      <td>0.033301</td>\n",
       "      <td>0.034176</td>\n",
       "      <td>0.034721</td>\n",
       "      <td>0.034334</td>\n",
       "    </tr>\n",
       "    <tr>\n",
       "      <th>4</th>\n",
       "      <td>0.012495</td>\n",
       "      <td>0.012787</td>\n",
       "      <td>0.013064</td>\n",
       "      <td>0.012788</td>\n",
       "      <td>0.012429</td>\n",
       "      <td>0.012242</td>\n",
       "      <td>0.011831</td>\n",
       "      <td>0.012614</td>\n",
       "      <td>0.013170</td>\n",
       "      <td>0.012892</td>\n",
       "      <td>...</td>\n",
       "      <td>0.010741</td>\n",
       "      <td>0.010020</td>\n",
       "      <td>0.010239</td>\n",
       "      <td>0.009924</td>\n",
       "      <td>0.009110</td>\n",
       "      <td>0.008237</td>\n",
       "      <td>0.007184</td>\n",
       "      <td>0.005752</td>\n",
       "      <td>0.004840</td>\n",
       "      <td>0.003880</td>\n",
       "    </tr>\n",
       "    <tr>\n",
       "      <th>5</th>\n",
       "      <td>-0.007322</td>\n",
       "      <td>-0.007465</td>\n",
       "      <td>-0.006274</td>\n",
       "      <td>-0.005548</td>\n",
       "      <td>-0.004917</td>\n",
       "      <td>-0.004173</td>\n",
       "      <td>-0.002598</td>\n",
       "      <td>-0.001084</td>\n",
       "      <td>-0.000077</td>\n",
       "      <td>0.000960</td>\n",
       "      <td>...</td>\n",
       "      <td>-0.031804</td>\n",
       "      <td>-0.054443</td>\n",
       "      <td>-0.037578</td>\n",
       "      <td>-0.036613</td>\n",
       "      <td>-0.037262</td>\n",
       "      <td>-0.033093</td>\n",
       "      <td>-0.032237</td>\n",
       "      <td>-0.044498</td>\n",
       "      <td>-0.038669</td>\n",
       "      <td>-0.034975</td>\n",
       "    </tr>\n",
       "    <tr>\n",
       "      <th>6</th>\n",
       "      <td>-0.081306</td>\n",
       "      <td>-0.085776</td>\n",
       "      <td>-0.082243</td>\n",
       "      <td>-0.079572</td>\n",
       "      <td>-0.081640</td>\n",
       "      <td>-0.052760</td>\n",
       "      <td>-0.064707</td>\n",
       "      <td>-0.055874</td>\n",
       "      <td>-0.070530</td>\n",
       "      <td>-0.066090</td>\n",
       "      <td>...</td>\n",
       "      <td>-0.014361</td>\n",
       "      <td>-0.011029</td>\n",
       "      <td>-0.009532</td>\n",
       "      <td>-0.009545</td>\n",
       "      <td>0.033028</td>\n",
       "      <td>0.046650</td>\n",
       "      <td>0.047591</td>\n",
       "      <td>0.049403</td>\n",
       "      <td>0.051495</td>\n",
       "      <td>0.051662</td>\n",
       "    </tr>\n",
       "    <tr>\n",
       "      <th>7</th>\n",
       "      <td>-0.006662</td>\n",
       "      <td>-0.005440</td>\n",
       "      <td>-0.004202</td>\n",
       "      <td>-0.002831</td>\n",
       "      <td>-0.001581</td>\n",
       "      <td>-0.000890</td>\n",
       "      <td>-0.000089</td>\n",
       "      <td>0.001407</td>\n",
       "      <td>0.003536</td>\n",
       "      <td>0.004369</td>\n",
       "      <td>...</td>\n",
       "      <td>-0.024146</td>\n",
       "      <td>-0.026377</td>\n",
       "      <td>-0.029762</td>\n",
       "      <td>-0.031864</td>\n",
       "      <td>-0.032869</td>\n",
       "      <td>-0.032606</td>\n",
       "      <td>-0.033715</td>\n",
       "      <td>-0.035362</td>\n",
       "      <td>-0.036048</td>\n",
       "      <td>-0.036025</td>\n",
       "    </tr>\n",
       "    <tr>\n",
       "      <th>8</th>\n",
       "      <td>0.001265</td>\n",
       "      <td>-0.000039</td>\n",
       "      <td>-0.000748</td>\n",
       "      <td>-0.000794</td>\n",
       "      <td>-0.000914</td>\n",
       "      <td>-0.004173</td>\n",
       "      <td>-0.015773</td>\n",
       "      <td>-0.019140</td>\n",
       "      <td>-0.022357</td>\n",
       "      <td>-0.010973</td>\n",
       "      <td>...</td>\n",
       "      <td>-0.017764</td>\n",
       "      <td>-0.002697</td>\n",
       "      <td>0.004262</td>\n",
       "      <td>0.011349</td>\n",
       "      <td>0.006181</td>\n",
       "      <td>-0.041359</td>\n",
       "      <td>-0.045049</td>\n",
       "      <td>-0.043483</td>\n",
       "      <td>-0.043387</td>\n",
       "      <td>-0.042326</td>\n",
       "    </tr>\n",
       "    <tr>\n",
       "      <th>9</th>\n",
       "      <td>0.016458</td>\n",
       "      <td>0.016163</td>\n",
       "      <td>0.015827</td>\n",
       "      <td>0.015505</td>\n",
       "      <td>0.015765</td>\n",
       "      <td>0.015525</td>\n",
       "      <td>0.015595</td>\n",
       "      <td>0.016350</td>\n",
       "      <td>0.016181</td>\n",
       "      <td>0.016302</td>\n",
       "      <td>...</td>\n",
       "      <td>-0.020742</td>\n",
       "      <td>-0.021992</td>\n",
       "      <td>-0.034360</td>\n",
       "      <td>-0.038512</td>\n",
       "      <td>-0.028964</td>\n",
       "      <td>-0.026772</td>\n",
       "      <td>-0.032730</td>\n",
       "      <td>-0.039930</td>\n",
       "      <td>-0.047057</td>\n",
       "      <td>-0.052302</td>\n",
       "    </tr>\n",
       "  </tbody>\n",
       "</table>\n",
       "<p>10 rows × 768 columns</p>\n",
       "</div>"
      ],
      "text/plain": [
       "        0         1         2         3         4         5         6    \\\n",
       "0  0.034294  0.035741  0.037236  0.037237  0.037114  0.037192  0.036298   \n",
       "1  0.017779  0.018863  0.019971  0.020259  0.021769  0.022747  0.022496   \n",
       "2  0.028349  0.029665  0.031021  0.031125  0.027774  0.026030  0.027515   \n",
       "3 -0.024497 -0.025018 -0.024230 -0.023205 -0.022930 -0.021900 -0.018910   \n",
       "4  0.012495  0.012787  0.013064  0.012788  0.012429  0.012242  0.011831   \n",
       "5 -0.007322 -0.007465 -0.006274 -0.005548 -0.004917 -0.004173 -0.002598   \n",
       "6 -0.081306 -0.085776 -0.082243 -0.079572 -0.081640 -0.052760 -0.064707   \n",
       "7 -0.006662 -0.005440 -0.004202 -0.002831 -0.001581 -0.000890 -0.000089   \n",
       "8  0.001265 -0.000039 -0.000748 -0.000794 -0.000914 -0.004173 -0.015773   \n",
       "9  0.016458  0.016163  0.015827  0.015505  0.015765  0.015525  0.015595   \n",
       "\n",
       "        7         8         9    ...       758       759       760       761  \\\n",
       "0  0.036896  0.036052  0.035053  ...  0.023930  0.024930  0.025871  0.026545   \n",
       "1  0.025067  0.026418  0.027098  ... -0.007979 -0.025062  0.000584  0.028919   \n",
       "2  0.028180  0.019192  0.001528  ...  0.001806  0.001688  0.001503  0.001377   \n",
       "3 -0.017272 -0.015131 -0.012109  ...  0.024781  0.025369  0.027251  0.029394   \n",
       "4  0.012614  0.013170  0.012892  ...  0.010741  0.010020  0.010239  0.009924   \n",
       "5 -0.001084 -0.000077  0.000960  ... -0.031804 -0.054443 -0.037578 -0.036613   \n",
       "6 -0.055874 -0.070530 -0.066090  ... -0.014361 -0.011029 -0.009532 -0.009545   \n",
       "7  0.001407  0.003536  0.004369  ... -0.024146 -0.026377 -0.029762 -0.031864   \n",
       "8 -0.019140 -0.022357 -0.010973  ... -0.017764 -0.002697  0.004262  0.011349   \n",
       "9  0.016350  0.016181  0.016302  ... -0.020742 -0.021992 -0.034360 -0.038512   \n",
       "\n",
       "        762       763       764       765       766       767  \n",
       "0  0.026682  0.026714  0.025909  0.025547  0.025285  0.023833  \n",
       "1  0.033516  0.033035  0.032808  0.033161  0.033672  0.033284  \n",
       "2  0.001300  0.001430  0.001271  0.001183  0.000647  0.001255  \n",
       "3  0.031563  0.032549  0.033301  0.034176  0.034721  0.034334  \n",
       "4  0.009110  0.008237  0.007184  0.005752  0.004840  0.003880  \n",
       "5 -0.037262 -0.033093 -0.032237 -0.044498 -0.038669 -0.034975  \n",
       "6  0.033028  0.046650  0.047591  0.049403  0.051495  0.051662  \n",
       "7 -0.032869 -0.032606 -0.033715 -0.035362 -0.036048 -0.036025  \n",
       "8  0.006181 -0.041359 -0.045049 -0.043483 -0.043387 -0.042326  \n",
       "9 -0.028964 -0.026772 -0.032730 -0.039930 -0.047057 -0.052302  \n",
       "\n",
       "[10 rows x 768 columns]"
      ]
     },
     "execution_count": 38,
     "metadata": {},
     "output_type": "execute_result"
    }
   ],
   "source": [
    "X_train_norm.head(10)"
   ]
  },
  {
   "cell_type": "markdown",
   "metadata": {},
   "source": [
    "## sklearn algorithm"
   ]
  },
  {
   "cell_type": "code",
   "execution_count": 39,
   "metadata": {},
   "outputs": [],
   "source": [
    "from sklearn.linear_model import LogisticRegression\n",
    "from sklearn.metrics import accuracy_score"
   ]
  },
  {
   "cell_type": "code",
   "execution_count": 40,
   "metadata": {},
   "outputs": [
    {
     "name": "stderr",
     "output_type": "stream",
     "text": [
      "c:\\users\\nosov\\appdata\\local\\programs\\python\\python38\\lib\\site-packages\\sklearn\\utils\\validation.py:760: DataConversionWarning: A column-vector y was passed when a 1d array was expected. Please change the shape of y to (n_samples, ), for example using ravel().\n",
      "  y = column_or_1d(y, warn=True)\n"
     ]
    },
    {
     "data": {
      "text/plain": [
       "LogisticRegression(C=1.0, class_weight=None, dual=False, fit_intercept=True,\n",
       "                   intercept_scaling=1, l1_ratio=None, max_iter=100,\n",
       "                   multi_class='auto', n_jobs=None, penalty='l2',\n",
       "                   random_state=None, solver='lbfgs', tol=0.0001, verbose=0,\n",
       "                   warm_start=False)"
      ]
     },
     "execution_count": 40,
     "metadata": {},
     "output_type": "execute_result"
    }
   ],
   "source": [
    "clf = LogisticRegression()\n",
    "clf.fit(X_train_norm, y_train)"
   ]
  },
  {
   "cell_type": "markdown",
   "metadata": {},
   "source": [
    "#### Training dataset"
   ]
  },
  {
   "cell_type": "code",
   "execution_count": 41,
   "metadata": {},
   "outputs": [
    {
     "name": "stdout",
     "output_type": "stream",
     "text": [
      "[0. 0. 0. ... 0. 0. 0.]\n"
     ]
    }
   ],
   "source": [
    "y_pred_train = clf.predict(X_train_norm)\n",
    "print(y_pred_train)"
   ]
  },
  {
   "cell_type": "code",
   "execution_count": 42,
   "metadata": {},
   "outputs": [
    {
     "name": "stdout",
     "output_type": "stream",
     "text": [
      "sklearn algorithm's train dataset accuracy: 0.852941\n",
      "MSE = 0.184103\n"
     ]
    }
   ],
   "source": [
    "sklearn_acc_train = accuracy_score(y_train, y_pred_train)\n",
    "sklearn_MSE_train = MSE(y_train, y_pred_train)\n",
    "\n",
    "print(\"sklearn algorithm's train dataset accuracy: %f\" % sklearn_acc_train)\n",
    "print(\"MSE = %f\" % sklearn_MSE_train)"
   ]
  },
  {
   "cell_type": "markdown",
   "metadata": {},
   "source": [
    "#### Test dataset"
   ]
  },
  {
   "cell_type": "code",
   "execution_count": 43,
   "metadata": {},
   "outputs": [],
   "source": [
    "y_pred_test = clf.predict(X_test_norm)"
   ]
  },
  {
   "cell_type": "code",
   "execution_count": 44,
   "metadata": {},
   "outputs": [
    {
     "name": "stdout",
     "output_type": "stream",
     "text": [
      "sklearn algorithm's test dataset accuracy: 0.8445475638051044\n",
      "MSE = 0.195310\n"
     ]
    }
   ],
   "source": [
    "sklearn_acc_test = accuracy_score(y_test, y_pred_test)\n",
    "sklearn_MSE_test = MSE(y_test, y_pred_test)\n",
    "\n",
    "print(\"sklearn algorithm's test dataset accuracy: %s\" % sklearn_acc_test)\n",
    "print(\"MSE = %f\" % sklearn_MSE_test)"
   ]
  },
  {
   "cell_type": "markdown",
   "metadata": {},
   "source": [
    "## My algorithm"
   ]
  },
  {
   "cell_type": "code",
   "execution_count": 45,
   "metadata": {},
   "outputs": [],
   "source": [
    "X_train_norm = prepare_X(X_train_norm)\n",
    "X_test_norm  = prepare_X(X_test_norm)\n",
    "X_val_norm   = prepare_X(X_val_norm)"
   ]
  },
  {
   "cell_type": "code",
   "execution_count": 46,
   "metadata": {},
   "outputs": [
    {
     "data": {
      "text/html": [
       "<div>\n",
       "<style scoped>\n",
       "    .dataframe tbody tr th:only-of-type {\n",
       "        vertical-align: middle;\n",
       "    }\n",
       "\n",
       "    .dataframe tbody tr th {\n",
       "        vertical-align: top;\n",
       "    }\n",
       "\n",
       "    .dataframe thead th {\n",
       "        text-align: right;\n",
       "    }\n",
       "</style>\n",
       "<table border=\"1\" class=\"dataframe\">\n",
       "  <thead>\n",
       "    <tr style=\"text-align: right;\">\n",
       "      <th></th>\n",
       "      <th>0</th>\n",
       "      <th>1</th>\n",
       "      <th>2</th>\n",
       "      <th>3</th>\n",
       "      <th>4</th>\n",
       "      <th>5</th>\n",
       "      <th>6</th>\n",
       "      <th>7</th>\n",
       "      <th>8</th>\n",
       "      <th>9</th>\n",
       "      <th>...</th>\n",
       "      <th>759</th>\n",
       "      <th>760</th>\n",
       "      <th>761</th>\n",
       "      <th>762</th>\n",
       "      <th>763</th>\n",
       "      <th>764</th>\n",
       "      <th>765</th>\n",
       "      <th>766</th>\n",
       "      <th>767</th>\n",
       "      <th>768</th>\n",
       "    </tr>\n",
       "  </thead>\n",
       "  <tbody>\n",
       "    <tr>\n",
       "      <th>0</th>\n",
       "      <td>1.0</td>\n",
       "      <td>0.034294</td>\n",
       "      <td>0.035741</td>\n",
       "      <td>0.037236</td>\n",
       "      <td>0.037237</td>\n",
       "      <td>0.037114</td>\n",
       "      <td>0.037192</td>\n",
       "      <td>0.036298</td>\n",
       "      <td>0.036896</td>\n",
       "      <td>0.036052</td>\n",
       "      <td>...</td>\n",
       "      <td>0.023930</td>\n",
       "      <td>0.024930</td>\n",
       "      <td>0.025871</td>\n",
       "      <td>0.026545</td>\n",
       "      <td>0.026682</td>\n",
       "      <td>0.026714</td>\n",
       "      <td>0.025909</td>\n",
       "      <td>0.025547</td>\n",
       "      <td>0.025285</td>\n",
       "      <td>0.023833</td>\n",
       "    </tr>\n",
       "    <tr>\n",
       "      <th>1</th>\n",
       "      <td>1.0</td>\n",
       "      <td>0.017779</td>\n",
       "      <td>0.018863</td>\n",
       "      <td>0.019971</td>\n",
       "      <td>0.020259</td>\n",
       "      <td>0.021769</td>\n",
       "      <td>0.022747</td>\n",
       "      <td>0.022496</td>\n",
       "      <td>0.025067</td>\n",
       "      <td>0.026418</td>\n",
       "      <td>...</td>\n",
       "      <td>-0.007979</td>\n",
       "      <td>-0.025062</td>\n",
       "      <td>0.000584</td>\n",
       "      <td>0.028919</td>\n",
       "      <td>0.033516</td>\n",
       "      <td>0.033035</td>\n",
       "      <td>0.032808</td>\n",
       "      <td>0.033161</td>\n",
       "      <td>0.033672</td>\n",
       "      <td>0.033284</td>\n",
       "    </tr>\n",
       "    <tr>\n",
       "      <th>2</th>\n",
       "      <td>1.0</td>\n",
       "      <td>0.028349</td>\n",
       "      <td>0.029665</td>\n",
       "      <td>0.031021</td>\n",
       "      <td>0.031125</td>\n",
       "      <td>0.027774</td>\n",
       "      <td>0.026030</td>\n",
       "      <td>0.027515</td>\n",
       "      <td>0.028180</td>\n",
       "      <td>0.019192</td>\n",
       "      <td>...</td>\n",
       "      <td>0.001806</td>\n",
       "      <td>0.001688</td>\n",
       "      <td>0.001503</td>\n",
       "      <td>0.001377</td>\n",
       "      <td>0.001300</td>\n",
       "      <td>0.001430</td>\n",
       "      <td>0.001271</td>\n",
       "      <td>0.001183</td>\n",
       "      <td>0.000647</td>\n",
       "      <td>0.001255</td>\n",
       "    </tr>\n",
       "    <tr>\n",
       "      <th>3</th>\n",
       "      <td>1.0</td>\n",
       "      <td>-0.024497</td>\n",
       "      <td>-0.025018</td>\n",
       "      <td>-0.024230</td>\n",
       "      <td>-0.023205</td>\n",
       "      <td>-0.022930</td>\n",
       "      <td>-0.021900</td>\n",
       "      <td>-0.018910</td>\n",
       "      <td>-0.017272</td>\n",
       "      <td>-0.015131</td>\n",
       "      <td>...</td>\n",
       "      <td>0.024781</td>\n",
       "      <td>0.025369</td>\n",
       "      <td>0.027251</td>\n",
       "      <td>0.029394</td>\n",
       "      <td>0.031563</td>\n",
       "      <td>0.032549</td>\n",
       "      <td>0.033301</td>\n",
       "      <td>0.034176</td>\n",
       "      <td>0.034721</td>\n",
       "      <td>0.034334</td>\n",
       "    </tr>\n",
       "    <tr>\n",
       "      <th>4</th>\n",
       "      <td>1.0</td>\n",
       "      <td>0.012495</td>\n",
       "      <td>0.012787</td>\n",
       "      <td>0.013064</td>\n",
       "      <td>0.012788</td>\n",
       "      <td>0.012429</td>\n",
       "      <td>0.012242</td>\n",
       "      <td>0.011831</td>\n",
       "      <td>0.012614</td>\n",
       "      <td>0.013170</td>\n",
       "      <td>...</td>\n",
       "      <td>0.010741</td>\n",
       "      <td>0.010020</td>\n",
       "      <td>0.010239</td>\n",
       "      <td>0.009924</td>\n",
       "      <td>0.009110</td>\n",
       "      <td>0.008237</td>\n",
       "      <td>0.007184</td>\n",
       "      <td>0.005752</td>\n",
       "      <td>0.004840</td>\n",
       "      <td>0.003880</td>\n",
       "    </tr>\n",
       "    <tr>\n",
       "      <th>5</th>\n",
       "      <td>1.0</td>\n",
       "      <td>-0.007322</td>\n",
       "      <td>-0.007465</td>\n",
       "      <td>-0.006274</td>\n",
       "      <td>-0.005548</td>\n",
       "      <td>-0.004917</td>\n",
       "      <td>-0.004173</td>\n",
       "      <td>-0.002598</td>\n",
       "      <td>-0.001084</td>\n",
       "      <td>-0.000077</td>\n",
       "      <td>...</td>\n",
       "      <td>-0.031804</td>\n",
       "      <td>-0.054443</td>\n",
       "      <td>-0.037578</td>\n",
       "      <td>-0.036613</td>\n",
       "      <td>-0.037262</td>\n",
       "      <td>-0.033093</td>\n",
       "      <td>-0.032237</td>\n",
       "      <td>-0.044498</td>\n",
       "      <td>-0.038669</td>\n",
       "      <td>-0.034975</td>\n",
       "    </tr>\n",
       "    <tr>\n",
       "      <th>6</th>\n",
       "      <td>1.0</td>\n",
       "      <td>-0.081306</td>\n",
       "      <td>-0.085776</td>\n",
       "      <td>-0.082243</td>\n",
       "      <td>-0.079572</td>\n",
       "      <td>-0.081640</td>\n",
       "      <td>-0.052760</td>\n",
       "      <td>-0.064707</td>\n",
       "      <td>-0.055874</td>\n",
       "      <td>-0.070530</td>\n",
       "      <td>...</td>\n",
       "      <td>-0.014361</td>\n",
       "      <td>-0.011029</td>\n",
       "      <td>-0.009532</td>\n",
       "      <td>-0.009545</td>\n",
       "      <td>0.033028</td>\n",
       "      <td>0.046650</td>\n",
       "      <td>0.047591</td>\n",
       "      <td>0.049403</td>\n",
       "      <td>0.051495</td>\n",
       "      <td>0.051662</td>\n",
       "    </tr>\n",
       "    <tr>\n",
       "      <th>7</th>\n",
       "      <td>1.0</td>\n",
       "      <td>-0.006662</td>\n",
       "      <td>-0.005440</td>\n",
       "      <td>-0.004202</td>\n",
       "      <td>-0.002831</td>\n",
       "      <td>-0.001581</td>\n",
       "      <td>-0.000890</td>\n",
       "      <td>-0.000089</td>\n",
       "      <td>0.001407</td>\n",
       "      <td>0.003536</td>\n",
       "      <td>...</td>\n",
       "      <td>-0.024146</td>\n",
       "      <td>-0.026377</td>\n",
       "      <td>-0.029762</td>\n",
       "      <td>-0.031864</td>\n",
       "      <td>-0.032869</td>\n",
       "      <td>-0.032606</td>\n",
       "      <td>-0.033715</td>\n",
       "      <td>-0.035362</td>\n",
       "      <td>-0.036048</td>\n",
       "      <td>-0.036025</td>\n",
       "    </tr>\n",
       "    <tr>\n",
       "      <th>8</th>\n",
       "      <td>1.0</td>\n",
       "      <td>0.001265</td>\n",
       "      <td>-0.000039</td>\n",
       "      <td>-0.000748</td>\n",
       "      <td>-0.000794</td>\n",
       "      <td>-0.000914</td>\n",
       "      <td>-0.004173</td>\n",
       "      <td>-0.015773</td>\n",
       "      <td>-0.019140</td>\n",
       "      <td>-0.022357</td>\n",
       "      <td>...</td>\n",
       "      <td>-0.017764</td>\n",
       "      <td>-0.002697</td>\n",
       "      <td>0.004262</td>\n",
       "      <td>0.011349</td>\n",
       "      <td>0.006181</td>\n",
       "      <td>-0.041359</td>\n",
       "      <td>-0.045049</td>\n",
       "      <td>-0.043483</td>\n",
       "      <td>-0.043387</td>\n",
       "      <td>-0.042326</td>\n",
       "    </tr>\n",
       "    <tr>\n",
       "      <th>9</th>\n",
       "      <td>1.0</td>\n",
       "      <td>0.016458</td>\n",
       "      <td>0.016163</td>\n",
       "      <td>0.015827</td>\n",
       "      <td>0.015505</td>\n",
       "      <td>0.015765</td>\n",
       "      <td>0.015525</td>\n",
       "      <td>0.015595</td>\n",
       "      <td>0.016350</td>\n",
       "      <td>0.016181</td>\n",
       "      <td>...</td>\n",
       "      <td>-0.020742</td>\n",
       "      <td>-0.021992</td>\n",
       "      <td>-0.034360</td>\n",
       "      <td>-0.038512</td>\n",
       "      <td>-0.028964</td>\n",
       "      <td>-0.026772</td>\n",
       "      <td>-0.032730</td>\n",
       "      <td>-0.039930</td>\n",
       "      <td>-0.047057</td>\n",
       "      <td>-0.052302</td>\n",
       "    </tr>\n",
       "  </tbody>\n",
       "</table>\n",
       "<p>10 rows × 769 columns</p>\n",
       "</div>"
      ],
      "text/plain": [
       "   0         1         2         3         4         5         6         7    \\\n",
       "0  1.0  0.034294  0.035741  0.037236  0.037237  0.037114  0.037192  0.036298   \n",
       "1  1.0  0.017779  0.018863  0.019971  0.020259  0.021769  0.022747  0.022496   \n",
       "2  1.0  0.028349  0.029665  0.031021  0.031125  0.027774  0.026030  0.027515   \n",
       "3  1.0 -0.024497 -0.025018 -0.024230 -0.023205 -0.022930 -0.021900 -0.018910   \n",
       "4  1.0  0.012495  0.012787  0.013064  0.012788  0.012429  0.012242  0.011831   \n",
       "5  1.0 -0.007322 -0.007465 -0.006274 -0.005548 -0.004917 -0.004173 -0.002598   \n",
       "6  1.0 -0.081306 -0.085776 -0.082243 -0.079572 -0.081640 -0.052760 -0.064707   \n",
       "7  1.0 -0.006662 -0.005440 -0.004202 -0.002831 -0.001581 -0.000890 -0.000089   \n",
       "8  1.0  0.001265 -0.000039 -0.000748 -0.000794 -0.000914 -0.004173 -0.015773   \n",
       "9  1.0  0.016458  0.016163  0.015827  0.015505  0.015765  0.015525  0.015595   \n",
       "\n",
       "        8         9    ...       759       760       761       762       763  \\\n",
       "0  0.036896  0.036052  ...  0.023930  0.024930  0.025871  0.026545  0.026682   \n",
       "1  0.025067  0.026418  ... -0.007979 -0.025062  0.000584  0.028919  0.033516   \n",
       "2  0.028180  0.019192  ...  0.001806  0.001688  0.001503  0.001377  0.001300   \n",
       "3 -0.017272 -0.015131  ...  0.024781  0.025369  0.027251  0.029394  0.031563   \n",
       "4  0.012614  0.013170  ...  0.010741  0.010020  0.010239  0.009924  0.009110   \n",
       "5 -0.001084 -0.000077  ... -0.031804 -0.054443 -0.037578 -0.036613 -0.037262   \n",
       "6 -0.055874 -0.070530  ... -0.014361 -0.011029 -0.009532 -0.009545  0.033028   \n",
       "7  0.001407  0.003536  ... -0.024146 -0.026377 -0.029762 -0.031864 -0.032869   \n",
       "8 -0.019140 -0.022357  ... -0.017764 -0.002697  0.004262  0.011349  0.006181   \n",
       "9  0.016350  0.016181  ... -0.020742 -0.021992 -0.034360 -0.038512 -0.028964   \n",
       "\n",
       "        764       765       766       767       768  \n",
       "0  0.026714  0.025909  0.025547  0.025285  0.023833  \n",
       "1  0.033035  0.032808  0.033161  0.033672  0.033284  \n",
       "2  0.001430  0.001271  0.001183  0.000647  0.001255  \n",
       "3  0.032549  0.033301  0.034176  0.034721  0.034334  \n",
       "4  0.008237  0.007184  0.005752  0.004840  0.003880  \n",
       "5 -0.033093 -0.032237 -0.044498 -0.038669 -0.034975  \n",
       "6  0.046650  0.047591  0.049403  0.051495  0.051662  \n",
       "7 -0.032606 -0.033715 -0.035362 -0.036048 -0.036025  \n",
       "8 -0.041359 -0.045049 -0.043483 -0.043387 -0.042326  \n",
       "9 -0.026772 -0.032730 -0.039930 -0.047057 -0.052302  \n",
       "\n",
       "[10 rows x 769 columns]"
      ]
     },
     "execution_count": 46,
     "metadata": {},
     "output_type": "execute_result"
    }
   ],
   "source": [
    "X_train_norm.head(10)"
   ]
  },
  {
   "cell_type": "code",
   "execution_count": 47,
   "metadata": {},
   "outputs": [
    {
     "data": {
      "text/html": [
       "<div>\n",
       "<style scoped>\n",
       "    .dataframe tbody tr th:only-of-type {\n",
       "        vertical-align: middle;\n",
       "    }\n",
       "\n",
       "    .dataframe tbody tr th {\n",
       "        vertical-align: top;\n",
       "    }\n",
       "\n",
       "    .dataframe thead th {\n",
       "        text-align: right;\n",
       "    }\n",
       "</style>\n",
       "<table border=\"1\" class=\"dataframe\">\n",
       "  <thead>\n",
       "    <tr style=\"text-align: right;\">\n",
       "      <th></th>\n",
       "      <th>0</th>\n",
       "    </tr>\n",
       "  </thead>\n",
       "  <tbody>\n",
       "    <tr>\n",
       "      <th>0</th>\n",
       "      <td>1.0</td>\n",
       "    </tr>\n",
       "    <tr>\n",
       "      <th>1</th>\n",
       "      <td>0.0</td>\n",
       "    </tr>\n",
       "    <tr>\n",
       "      <th>2</th>\n",
       "      <td>0.0</td>\n",
       "    </tr>\n",
       "    <tr>\n",
       "      <th>3</th>\n",
       "      <td>0.0</td>\n",
       "    </tr>\n",
       "    <tr>\n",
       "      <th>4</th>\n",
       "      <td>0.0</td>\n",
       "    </tr>\n",
       "    <tr>\n",
       "      <th>5</th>\n",
       "      <td>0.0</td>\n",
       "    </tr>\n",
       "    <tr>\n",
       "      <th>6</th>\n",
       "      <td>1.0</td>\n",
       "    </tr>\n",
       "    <tr>\n",
       "      <th>7</th>\n",
       "      <td>0.0</td>\n",
       "    </tr>\n",
       "    <tr>\n",
       "      <th>8</th>\n",
       "      <td>0.0</td>\n",
       "    </tr>\n",
       "    <tr>\n",
       "      <th>9</th>\n",
       "      <td>0.0</td>\n",
       "    </tr>\n",
       "  </tbody>\n",
       "</table>\n",
       "</div>"
      ],
      "text/plain": [
       "     0\n",
       "0  1.0\n",
       "1  0.0\n",
       "2  0.0\n",
       "3  0.0\n",
       "4  0.0\n",
       "5  0.0\n",
       "6  1.0\n",
       "7  0.0\n",
       "8  0.0\n",
       "9  0.0"
      ]
     },
     "execution_count": 47,
     "metadata": {},
     "output_type": "execute_result"
    }
   ],
   "source": [
    "y_train.head(10)"
   ]
  },
  {
   "cell_type": "markdown",
   "metadata": {},
   "source": [
    "### Training dataset"
   ]
  },
  {
   "cell_type": "code",
   "execution_count": 48,
   "metadata": {},
   "outputs": [
    {
     "data": {
      "text/plain": [
       "0.6931471805599454"
      ]
     },
     "execution_count": 48,
     "metadata": {},
     "output_type": "execute_result"
    }
   ],
   "source": [
    "theta = np.zeros((X_train_norm.shape[1], 1))\n",
    "cost_function(X_train_norm, y_train.T, theta)"
   ]
  },
  {
   "cell_type": "code",
   "execution_count": 49,
   "metadata": {},
   "outputs": [],
   "source": [
    "alpha=0.00005\n",
    "new_theta, Js = gradient_descent(X_train_norm, y_train.T, theta, alpha, 1e-7, iters_count, False)"
   ]
  },
  {
   "cell_type": "code",
   "execution_count": 50,
   "metadata": {},
   "outputs": [
    {
     "data": {
      "text/plain": [
       "0.6709580463247792"
      ]
     },
     "execution_count": 50,
     "metadata": {},
     "output_type": "execute_result"
    }
   ],
   "source": [
    "cost_function(X_train_norm, y_train.T, new_theta)"
   ]
  },
  {
   "cell_type": "code",
   "execution_count": 51,
   "metadata": {},
   "outputs": [],
   "source": [
    "y_pred_train = h(X_train_norm, new_theta)"
   ]
  },
  {
   "cell_type": "code",
   "execution_count": 52,
   "metadata": {},
   "outputs": [
    {
     "name": "stdout",
     "output_type": "stream",
     "text": [
      "My algorithm's train dataset accuracy: 0.6940045248868778\n",
      "MSE = 0.238909\n"
     ]
    }
   ],
   "source": [
    "my_acc_train = accuracy_score(y_train, y_pred_train.round())\n",
    "my_MSE_train = MSE(y_train, y_pred_train)\n",
    "\n",
    "print(\"My algorithm's train dataset accuracy: %s\" % my_acc_train)\n",
    "print(\"MSE = %f\" % my_MSE_train)"
   ]
  },
  {
   "cell_type": "code",
   "execution_count": 53,
   "metadata": {},
   "outputs": [
    {
     "data": {
      "text/plain": [
       "array([[0.40493957],\n",
       "       [0.53758289],\n",
       "       [0.52631894],\n",
       "       ...,\n",
       "       [0.51887678],\n",
       "       [0.59901109],\n",
       "       [0.46691693]])"
      ]
     },
     "execution_count": 53,
     "metadata": {},
     "output_type": "execute_result"
    }
   ],
   "source": [
    "y_pred_train"
   ]
  },
  {
   "cell_type": "markdown",
   "metadata": {},
   "source": [
    "### Testing dataset"
   ]
  },
  {
   "cell_type": "code",
   "execution_count": 54,
   "metadata": {},
   "outputs": [
    {
     "data": {
      "text/plain": [
       "0.6665323925002659"
      ]
     },
     "execution_count": 54,
     "metadata": {},
     "output_type": "execute_result"
    }
   ],
   "source": [
    "cost_function(X_test_norm, y_test.T, new_theta)"
   ]
  },
  {
   "cell_type": "code",
   "execution_count": 55,
   "metadata": {},
   "outputs": [],
   "source": [
    "y_pred_test = h(X_test_norm, new_theta)"
   ]
  },
  {
   "cell_type": "code",
   "execution_count": 56,
   "metadata": {},
   "outputs": [
    {
     "name": "stdout",
     "output_type": "stream",
     "text": [
      "My algorithm's test dataset accuracy: 0.7378190255220418\n",
      "MSE = 0.236679\n"
     ]
    }
   ],
   "source": [
    "my_acc_test = accuracy_score(y_test, y_pred_test.round())\n",
    "my_MSE_test = MSE(y_test, y_pred_test)\n",
    "\n",
    "print(\"My algorithm's test dataset accuracy: %s\" % my_acc_test)\n",
    "print(\"MSE = %f\" % my_MSE_test)"
   ]
  },
  {
   "cell_type": "markdown",
   "metadata": {},
   "source": [
    "## keras algorithm"
   ]
  },
  {
   "cell_type": "code",
   "execution_count": 57,
   "metadata": {},
   "outputs": [],
   "source": [
    "import tensorflow as tf\n",
    "\n",
    "from keras.optimizers import SGD\n",
    "from keras.layers import Dense, Dropout\n",
    "\n",
    "from keras.callbacks import LearningRateScheduler\n",
    "from keras.callbacks import History\n",
    "\n",
    "from keras.models import Sequential\n",
    "from keras.utils import to_categorical"
   ]
  },
  {
   "cell_type": "code",
   "execution_count": 58,
   "metadata": {},
   "outputs": [],
   "source": [
    "# convert to binary representation\n",
    "y_train_binary = to_categorical(y_train)\n",
    "y_val_binary = to_categorical(y_val)"
   ]
  },
  {
   "cell_type": "code",
   "execution_count": 59,
   "metadata": {},
   "outputs": [],
   "source": [
    "# solution\n",
    "epochs = 20\n",
    "learning_rate = 0.1\n",
    "decay_rate = 0.1\n",
    "momentum = 0.8"
   ]
  },
  {
   "cell_type": "code",
   "execution_count": 60,
   "metadata": {},
   "outputs": [],
   "source": [
    "# define the optimizer function\n",
    "sgd = SGD(lr=learning_rate, momentum=momentum, decay=decay_rate, nesterov=False)"
   ]
  },
  {
   "cell_type": "code",
   "execution_count": 61,
   "metadata": {},
   "outputs": [],
   "source": [
    "input_dim = X_train_norm.shape[1]\n",
    "num_classes = 2\n",
    "batch_size = 196"
   ]
  },
  {
   "cell_type": "code",
   "execution_count": 62,
   "metadata": {},
   "outputs": [],
   "source": [
    "# build the model\n",
    "exponential_decay_model = Sequential()\n",
    "exponential_decay_model.add(Dense(64, activation=tf.nn.relu, kernel_initializer='uniform', input_dim = input_dim))\n",
    "exponential_decay_model.add(Dropout(0.1))\n",
    "exponential_decay_model.add(Dense(64, kernel_initializer='uniform', activation=tf.nn.relu))\n",
    "exponential_decay_model.add(Dense(num_classes, kernel_initializer='uniform', activation=tf.nn.softmax))"
   ]
  },
  {
   "cell_type": "code",
   "execution_count": 63,
   "metadata": {},
   "outputs": [],
   "source": [
    "# compile the model\n",
    "exponential_decay_model.compile(loss='categorical_crossentropy', \n",
    "                                optimizer=sgd, \n",
    "                                metrics=['acc'])"
   ]
  },
  {
   "cell_type": "code",
   "execution_count": 64,
   "metadata": {},
   "outputs": [],
   "source": [
    "# define the learning rate change \n",
    "def exp_decay(epoch):\n",
    "    lrate = learning_rate * np.exp(-decay_rate*epoch)\n",
    "    return lrate"
   ]
  },
  {
   "cell_type": "code",
   "execution_count": 65,
   "metadata": {},
   "outputs": [],
   "source": [
    "# learning schedule callback\n",
    "loss_history = History()\n",
    "lr_rate = LearningRateScheduler(exp_decay)\n",
    "callbacks_list = [loss_history, lr_rate]"
   ]
  },
  {
   "cell_type": "markdown",
   "metadata": {},
   "source": [
    "Validation datasets are used here for the hyperparameters' tunning. Training data - to fit the model, and it will be tested on Testing dataset."
   ]
  },
  {
   "cell_type": "code",
   "execution_count": 66,
   "metadata": {},
   "outputs": [
    {
     "name": "stdout",
     "output_type": "stream",
     "text": [
      "Train on 1768 samples, validate on 328 samples\n",
      "Epoch 1/20\n",
      "1768/1768 [==============================] - 1s 324us/step - loss: 0.5741 - acc: 0.7534 - val_loss: 0.4304 - val_acc: 0.8598\n",
      "Epoch 2/20\n",
      "1768/1768 [==============================] - 0s 56us/step - loss: 0.4473 - acc: 0.8377 - val_loss: 0.4061 - val_acc: 0.8598\n",
      "Epoch 3/20\n",
      "1768/1768 [==============================] - 0s 52us/step - loss: 0.4446 - acc: 0.8377 - val_loss: 0.4055 - val_acc: 0.8598\n",
      "Epoch 4/20\n",
      "1768/1768 [==============================] - 0s 52us/step - loss: 0.4444 - acc: 0.8377 - val_loss: 0.4058 - val_acc: 0.8598\n",
      "Epoch 5/20\n",
      "1768/1768 [==============================] - 0s 46us/step - loss: 0.4439 - acc: 0.8377 - val_loss: 0.4060 - val_acc: 0.8598\n",
      "Epoch 6/20\n",
      "1768/1768 [==============================] - 0s 43us/step - loss: 0.4438 - acc: 0.8377 - val_loss: 0.4060 - val_acc: 0.8598\n",
      "Epoch 7/20\n",
      "1768/1768 [==============================] - 0s 46us/step - loss: 0.4439 - acc: 0.8377 - val_loss: 0.4060 - val_acc: 0.8598\n",
      "Epoch 8/20\n",
      "1768/1768 [==============================] - 0s 47us/step - loss: 0.4436 - acc: 0.8377 - val_loss: 0.4065 - val_acc: 0.8598\n",
      "Epoch 9/20\n",
      "1768/1768 [==============================] - 0s 45us/step - loss: 0.4435 - acc: 0.8377 - val_loss: 0.4067 - val_acc: 0.8598\n",
      "Epoch 10/20\n",
      "1768/1768 [==============================] - 0s 45us/step - loss: 0.4435 - acc: 0.8377 - val_loss: 0.4070 - val_acc: 0.8598\n",
      "Epoch 11/20\n",
      "1768/1768 [==============================] - 0s 45us/step - loss: 0.4435 - acc: 0.8377 - val_loss: 0.4069 - val_acc: 0.8598\n",
      "Epoch 12/20\n",
      "1768/1768 [==============================] - 0s 45us/step - loss: 0.4435 - acc: 0.8377 - val_loss: 0.4068 - val_acc: 0.8598\n",
      "Epoch 13/20\n",
      "1768/1768 [==============================] - 0s 46us/step - loss: 0.4435 - acc: 0.8377 - val_loss: 0.4068 - val_acc: 0.8598\n",
      "Epoch 14/20\n",
      "1768/1768 [==============================] - 0s 45us/step - loss: 0.4435 - acc: 0.8377 - val_loss: 0.4068 - val_acc: 0.8598\n",
      "Epoch 15/20\n",
      "1768/1768 [==============================] - 0s 45us/step - loss: 0.4435 - acc: 0.8377 - val_loss: 0.4069 - val_acc: 0.8598\n",
      "Epoch 16/20\n",
      "1768/1768 [==============================] - 0s 46us/step - loss: 0.4435 - acc: 0.8377 - val_loss: 0.4068 - val_acc: 0.8598\n",
      "Epoch 17/20\n",
      "1768/1768 [==============================] - 0s 45us/step - loss: 0.4435 - acc: 0.8377 - val_loss: 0.4068 - val_acc: 0.8598\n",
      "Epoch 18/20\n",
      "1768/1768 [==============================] - 0s 46us/step - loss: 0.4435 - acc: 0.8377 - val_loss: 0.4069 - val_acc: 0.8598\n",
      "Epoch 19/20\n",
      "1768/1768 [==============================] - 0s 45us/step - loss: 0.4435 - acc: 0.8377 - val_loss: 0.4069 - val_acc: 0.8598\n",
      "Epoch 20/20\n",
      "1768/1768 [==============================] - 0s 44us/step - loss: 0.4435 - acc: 0.8377 - val_loss: 0.4069 - val_acc: 0.8598\n"
     ]
    }
   ],
   "source": [
    "# fit the model\n",
    "exponential_decay_model_history = exponential_decay_model.fit(X_train_norm, y_train_binary,\n",
    "                                                              batch_size=batch_size,\n",
    "                                                              epochs=epochs,\n",
    "                                                              callbacks=callbacks_list,\n",
    "                                                              verbose=1,\n",
    "                                                              validation_data=(X_val_norm, y_val_binary))"
   ]
  },
  {
   "cell_type": "code",
   "execution_count": 67,
   "metadata": {},
   "outputs": [
    {
     "name": "stdout",
     "output_type": "stream",
     "text": [
      "keras training dataset accuracy: 0.8376697\n"
     ]
    }
   ],
   "source": [
    "keras_acc_train = exponential_decay_model_history.history['acc'][-1]\n",
    "print(\"keras training dataset accuracy: %s\" % keras_acc_train)"
   ]
  },
  {
   "cell_type": "markdown",
   "metadata": {},
   "source": [
    "### Testing dataset"
   ]
  },
  {
   "cell_type": "code",
   "execution_count": 68,
   "metadata": {},
   "outputs": [
    {
     "name": "stdout",
     "output_type": "stream",
     "text": [
      "keras testing dataset accuracy: 0.8393491\n"
     ]
    }
   ],
   "source": [
    "test_pred = exponential_decay_model.predict(X_test_norm)\n",
    "test_pred = pd.DataFrame(test_pred, columns=[\"Probability\", \"Negative probability\"])\n",
    "prob_arr = test_pred[\"Probability\"]\n",
    "keras_acc_test = np.mean(prob_arr)\n",
    "print(\"keras testing dataset accuracy: %s\" % keras_acc_test)"
   ]
  },
  {
   "cell_type": "markdown",
   "metadata": {},
   "source": [
    "## Conclusion"
   ]
  },
  {
   "cell_type": "code",
   "execution_count": 69,
   "metadata": {},
   "outputs": [],
   "source": [
    "accuracy_table = np.array([[\"\", \"My algorithm\", \"sklearn\", \"keras\"],\n",
    "                          ['Train', my_acc_train, sklearn_acc_train, keras_acc_train],\n",
    "                          ['Test',  my_acc_test,  sklearn_acc_test,  keras_acc_test]])\n",
    "accuracy_table = np2pd(accuracy_table)\n",
    "\n",
    "\n",
    "MSE_table = np.array([[\"\", \"My algorithm\", \"sklearn\"],\n",
    "                     ['Train', my_MSE_train, sklearn_MSE_train],\n",
    "                     ['Test',  my_MSE_test,  sklearn_MSE_test]])\n",
    "MSE_table = np2pd(MSE_table)"
   ]
  },
  {
   "cell_type": "code",
   "execution_count": 70,
   "metadata": {},
   "outputs": [
    {
     "name": "stdout",
     "output_type": "stream",
     "text": [
      "Accuracy table for cardboard classification and image decrease coefficient 16:\n"
     ]
    },
    {
     "data": {
      "text/html": [
       "<div>\n",
       "<style scoped>\n",
       "    .dataframe tbody tr th:only-of-type {\n",
       "        vertical-align: middle;\n",
       "    }\n",
       "\n",
       "    .dataframe tbody tr th {\n",
       "        vertical-align: top;\n",
       "    }\n",
       "\n",
       "    .dataframe thead th {\n",
       "        text-align: right;\n",
       "    }\n",
       "</style>\n",
       "<table border=\"1\" class=\"dataframe\">\n",
       "  <thead>\n",
       "    <tr style=\"text-align: right;\">\n",
       "      <th></th>\n",
       "      <th>My algorithm</th>\n",
       "      <th>sklearn</th>\n",
       "      <th>keras</th>\n",
       "    </tr>\n",
       "  </thead>\n",
       "  <tbody>\n",
       "    <tr>\n",
       "      <th>Train</th>\n",
       "      <td>0.6940045248868778</td>\n",
       "      <td>0.8529411764705882</td>\n",
       "      <td>0.8376697</td>\n",
       "    </tr>\n",
       "    <tr>\n",
       "      <th>Test</th>\n",
       "      <td>0.7378190255220418</td>\n",
       "      <td>0.8445475638051044</td>\n",
       "      <td>0.8393491</td>\n",
       "    </tr>\n",
       "  </tbody>\n",
       "</table>\n",
       "</div>"
      ],
      "text/plain": [
       "             My algorithm             sklearn      keras\n",
       "Train  0.6940045248868778  0.8529411764705882  0.8376697\n",
       "Test   0.7378190255220418  0.8445475638051044  0.8393491"
      ]
     },
     "execution_count": 70,
     "metadata": {},
     "output_type": "execute_result"
    }
   ],
   "source": [
    "print('Accuracy table for %s classification and image decrease coefficient %d:' % (TARGET_CLASS, IMG_DECR_COEF))\n",
    "accuracy_table.head()"
   ]
  },
  {
   "cell_type": "code",
   "execution_count": 71,
   "metadata": {},
   "outputs": [
    {
     "name": "stdout",
     "output_type": "stream",
     "text": [
      "MSE table for cardboard classification and image decrease coefficient 16:\n"
     ]
    },
    {
     "data": {
      "text/html": [
       "<div>\n",
       "<style scoped>\n",
       "    .dataframe tbody tr th:only-of-type {\n",
       "        vertical-align: middle;\n",
       "    }\n",
       "\n",
       "    .dataframe tbody tr th {\n",
       "        vertical-align: top;\n",
       "    }\n",
       "\n",
       "    .dataframe thead th {\n",
       "        text-align: right;\n",
       "    }\n",
       "</style>\n",
       "<table border=\"1\" class=\"dataframe\">\n",
       "  <thead>\n",
       "    <tr style=\"text-align: right;\">\n",
       "      <th></th>\n",
       "      <th>My algorithm</th>\n",
       "      <th>sklearn</th>\n",
       "    </tr>\n",
       "  </thead>\n",
       "  <tbody>\n",
       "    <tr>\n",
       "      <th>Train</th>\n",
       "      <td>0.23890894162382248</td>\n",
       "      <td>0.18410313568518252</td>\n",
       "    </tr>\n",
       "    <tr>\n",
       "      <th>Test</th>\n",
       "      <td>0.23667932616063952</td>\n",
       "      <td>0.19531010276645797</td>\n",
       "    </tr>\n",
       "  </tbody>\n",
       "</table>\n",
       "</div>"
      ],
      "text/plain": [
       "              My algorithm              sklearn\n",
       "Train  0.23890894162382248  0.18410313568518252\n",
       "Test   0.23667932616063952  0.19531010276645797"
      ]
     },
     "execution_count": 71,
     "metadata": {},
     "output_type": "execute_result"
    }
   ],
   "source": [
    "print('MSE table for %s classification and image decrease coefficient %d:' % (TARGET_CLASS, IMG_DECR_COEF))\n",
    "MSE_table.head()"
   ]
  },
  {
   "cell_type": "markdown",
   "metadata": {},
   "source": [
    "So, the results of my algorithm are much worse than build-in ones'. To my mind, there are some reasons of it:\n",
    "1. It is difficult to recognize some clear, unique image features, referring to the definite class: there are really some similar images of DIFFERENT classes\n",
    "2. It's hard to detect some DISTINCT dependencies between features (grayscale array items) and target (garbage class)\n",
    "3. Huge amount of data, which is calculated many times. This influences the precision of calculating results\n",
    "4. The decision to reduce the execution time: the number of iterations is small. Also, I don't use the regularization parameter and don't tune the learning rate in my algorithm\n",
    "5. As it was mentioned, all the images are reduced in size, and this is one of the reasons of 1. and 2. problems"
   ]
  }
 ],
 "metadata": {
  "kernelspec": {
   "display_name": "Python 3",
   "language": "python",
   "name": "python3"
  },
  "language_info": {
   "codemirror_mode": {
    "name": "ipython",
    "version": 3
   },
   "file_extension": ".py",
   "mimetype": "text/x-python",
   "name": "python",
   "nbconvert_exporter": "python",
   "pygments_lexer": "ipython3",
   "version": "3.8.0"
  }
 },
 "nbformat": 4,
 "nbformat_minor": 4
}
